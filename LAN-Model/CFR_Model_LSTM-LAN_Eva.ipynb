{
 "cells": [
  {
   "cell_type": "code",
   "execution_count": 97,
   "metadata": {},
   "outputs": [],
   "source": [
    "import pandas as pd\n",
    "import numpy as np\n",
    "import utils"
   ]
  },
  {
   "cell_type": "markdown",
   "metadata": {},
   "source": [
    "# Data Preparation"
   ]
  },
  {
   "cell_type": "code",
   "execution_count": 98,
   "metadata": {},
   "outputs": [
    {
     "name": "stdout",
     "output_type": "stream",
     "text": [
      "Check all 208 files ...\n",
      "Got 27 cfr files\n",
      "['RTL8112' 'RTL8112L' 'RTL8131' '82567LF' 'RTL8103EL' 'AR8131L-AL1E'\n",
      " 'WG82578DM' 'RTL8111E-VB' 'WG82567V' 'WG82583V' 'WG82579V' 'AR8151'\n",
      " 'RTL8111E-VL' 'WG82579LM' 'RTL8111F-VB' 'AR8161-AL3A-R' 'AR8161-BL3A-R'\n",
      " 'RTL8111DP-VC' 'WGI217V' 'RTL8111G-CG' 'RTL8111GR-CG' 'WGI217LM'\n",
      " 'WGI218V' 'WGI211AT(A2)' 'WGI218LM' 'RTL8111EP-CG' 'RTL8111H-CG']\n"
     ]
    }
   ],
   "source": [
    "spcpath = './data/lan_spc_1.csv'\n",
    "LAN_CSV_DCT, spc_csv = utils.read_csv(spcpath)\n",
    "LAN_NAME_ARR = np.array(spc_csv['LAN'])[:-2] # exclude MIN & MAX\n",
    "LAN_NAME_LST = list(LAN_NAME_ARR)\n"
   ]
  },
  {
   "cell_type": "code",
   "execution_count": 99,
   "metadata": {},
   "outputs": [
    {
     "name": "stdout",
     "output_type": "stream",
     "text": [
      "S_ALL_NORM.shape: (29, 13)\n",
      "|             |Tmst |Year |Mont |New  |IC2L |Nm2G |Nm2L |AD2G |AD2L |Gd2G |Gd2L |PwPn |ESD  |\n",
      "|LAN          |0_Ts |1_Yr |2_Mt |3_N  |4_IL |5_NG |6_NL |7_AG |8_AL |9_GG |10GL |11Pn |12ED |\n",
      "|-            |-    |-    |-    |-    |-    |-    |-    |-    |-    |-    |-    |-    |-    |\n",
      "|RTL8112      | 0.25| 0.27| 0.00| 0.00| 0.05| 0.20| 0.05| 0.30| 0.05| 0.75| 0.30| 0.30| 0.40|\n",
      "|RTL8112L     | 0.26| 0.27| 0.18| 0.00| 0.05| 0.20| 0.05| 0.30| 0.05| 0.75| 0.30| 0.30| 0.40|\n",
      "|RTL8131      | 0.26| 0.27| 0.18| 0.00| 0.05| 0.20| 0.05| 0.30| 0.05| 0.75| 0.30| 0.30| 0.40|\n",
      "|82567LF      | 0.28| 0.27| 0.55| 0.00| 0.05| 0.20| 0.05| 0.30| 0.05| 0.75| 0.30| 0.30| 0.40|\n",
      "|RTL8103EL    | 0.29| 0.27| 0.64| 0.00| 0.05| 0.20| 0.05| 0.30| 0.05| 0.75| 0.30| 0.30| 0.40|\n",
      "|AR8131L-AL1E | 0.30| 0.27| 0.82| 0.00| 0.05| 0.20| 0.05| 0.30| 0.05| 0.75| 0.30| 0.25| 0.40|\n",
      "|WG82578DM    | 0.31| 0.33| 0.00| 0.00| 0.05| 0.20| 0.05| 0.30| 0.05| 0.75| 0.30| 0.30| 0.40|\n",
      "|RTL8111E-VB  | 0.32| 0.33| 0.09| 0.00| 0.02| 0.20| 0.05| 0.30| 0.05| 0.75| 0.30| 0.38| 0.40|\n",
      "|WG82567V     | 0.33| 0.33| 0.27| 0.00| 0.05| 0.20| 0.05| 0.30| 0.05| 0.75| 0.30| 0.30| 0.40|\n",
      "|WG82583V     | 0.36| 0.33| 0.73| 0.00| 0.05| 0.20| 0.05| 0.30| 0.05| 0.75| 0.30| 0.30| 0.40|\n",
      "|WG82579V     | 0.36| 0.33| 0.82| 0.00| 0.05| 0.20| 0.05| 0.30| 0.05| 0.75| 0.30| 0.30| 0.40|\n",
      "|AR8151       | 0.37| 0.33| 0.91| 0.00| 0.05| 0.10| 0.05| 0.30| 0.05| 0.75| 0.30| 0.25| 0.40|\n",
      "|RTL8111E-VL  | 0.38| 0.40| 0.00| 0.00| 0.05| 0.20| 0.05| 0.30| 0.05| 0.75| 0.30| 0.38| 0.40|\n",
      "|WG82579LM    | 0.38| 0.40| 0.09| 0.00| 0.05| 0.20| 0.05| 0.30| 0.05| 0.75| 0.30| 0.30| 0.40|\n",
      "|RTL8111F-VB  | 0.44| 0.47| 0.00| 0.00| 0.05| 0.20| 0.05| 0.30| 0.05| 0.75| 0.30| 0.30| 0.40|\n",
      "|AR8161-AL3A-R| 0.45| 0.47| 0.09| 0.00| 0.05| 0.10| 0.05| 0.30| 0.05| 0.75| 0.30| 0.25| 0.40|\n",
      "|AR8161-BL3A-R| 0.46| 0.47| 0.36| 0.00| 0.05| 0.10| 0.05| 0.30| 0.05| 0.75| 0.30| 0.25| 0.40|\n",
      "|RTL8111DP-VC | 0.51| 0.53| 0.18| 0.00| 0.05| 0.20| 0.05| 0.30| 0.05| 0.75| 0.30| 0.30| 0.40|\n",
      "|WGI217V      | 0.51| 0.53| 0.18| 0.00| 0.05| 0.20| 0.05| 0.30| 0.10| 0.75| 0.30| 0.30| 0.40|\n",
      "|RTL8111G-CG  | 0.52| 0.53| 0.27| 0.00| 0.10| 0.20| 0.10| 0.30| 0.10| 0.75| 0.30| 0.30| 0.40|\n",
      "|RTL8111GR-CG | 0.52| 0.53| 0.27| 0.00| 0.10| 0.20| 0.10| 0.30| 0.10| 0.75| 0.30| 0.30| 0.40|\n",
      "|WGI217LM     | 0.52| 0.53| 0.36| 0.00| 0.05| 0.20| 0.05| 0.30| 0.05| 0.75| 0.30| 0.30| 0.40|\n",
      "|WGI218V      | 0.57| 0.60| 0.09| 0.00| 0.05| 0.20| 0.05| 0.30| 0.05| 0.75| 0.30| 0.30| 0.40|\n",
      "|WGI211AT(A2) | 0.58| 0.60| 0.27| 0.20| 0.05| 0.20| 0.05| 0.30| 0.10| 0.75| 0.30| 0.38| 0.40|\n",
      "|WGI218LM     | 0.59| 0.60| 0.36| 0.00| 0.05| 0.20| 0.05| 0.30| 0.05| 0.75| 0.30| 0.30| 0.40|\n",
      "|RTL8111EP-CG | 0.60| 0.60| 0.55| 0.00| 0.05| 0.20| 0.05| 0.30| 0.05| 0.75| 0.30| 0.30| 0.40|\n",
      "|RTL8111H-CG  | 0.64| 0.67| 0.27| 0.20| 0.10| 0.20| 0.10| 0.30| 0.10| 0.75| 0.30| 0.38| 0.40|\n",
      "|             | 0.00| 0.00| 0.00| 0.00| 0.00| 0.00| 0.00| 0.00| 0.00| 0.00| 0.00| 0.00| 0.00|\n",
      "|             | 1.00| 1.00| 1.00| 1.00| 1.00| 1.00| 1.00| 1.00| 1.00| 1.00| 1.00| 1.00| 1.00|\n"
     ]
    }
   ],
   "source": [
    "# NORMALIZE ALL VALUES\n",
    "\n",
    "raw_spc = np.array(spc_csv.iloc[:,1:]) # exclude name\n",
    "S_ALL = utils.create_S(raw_spc)\n",
    "s_scaler, S_ALL_NORM = utils.scale(S_ALL)\n",
    "print (\"S_ALL_NORM.shape: {0}\".format(S_ALL_NORM.shape))\n",
    "\n",
    "ftr_dct = utils.show_spc(S_ALL_NORM, LAN_NAME_ARR)"
   ]
  },
  {
   "cell_type": "code",
   "execution_count": null,
   "metadata": {},
   "outputs": [],
   "source": []
  },
  {
   "cell_type": "code",
   "execution_count": null,
   "metadata": {},
   "outputs": [],
   "source": []
  },
  {
   "cell_type": "code",
   "execution_count": 100,
   "metadata": {},
   "outputs": [
    {
     "name": "stdout",
     "output_type": "stream",
     "text": [
      "c_exl_norm.shape: (5, 36, 1)\n",
      "c_exl_norm[0]:\n",
      "[[0.         0.00763359 0.03435115 0.07251908 0.11068702 0.14885496\n",
      "  0.18320611 0.22137405 0.26335878 0.30152672 0.34732824 0.38931298\n",
      "  0.43129771 0.47328244 0.51145038 0.54961832 0.58015267 0.61068702\n",
      "  0.63740458 0.66412214 0.69083969 0.71374046 0.74045802 0.77099237\n",
      "  0.79770992 0.82824427 0.85114504 0.87022901 0.88931298 0.90839695\n",
      "  0.92366412 0.9389313  0.95419847 0.96946565 0.98473282 1.        ]]\n"
     ]
    }
   ],
   "source": [
    "\"\"\"\n",
    "different data source (from MB team's Excel)\n",
    "\"\"\"\n",
    "\n",
    "CSV_RTL8111E_VL = pd.read_csv('./data/RTL8111E-VL.csv', encoding='big5')\n",
    "CSV_RTL8111F_VB = pd.read_csv('./data/RTL8111F-VB.csv', encoding='big5')\n",
    "CSV_RTL8111G_CG = pd.read_csv('./data/RTL8111G-CG.csv', encoding='big5')\n",
    "CSV_RTL8111GR_CG = pd.read_csv('./data/RTL8111GR-CG.csv', encoding='big5')\n",
    "CSV_RTL8111H_CG = pd.read_csv('./data/RTL8111H-CG.csv', encoding='big5')\n",
    "\n",
    "# 120 is B5~E4\n",
    "cfr_rtl8111e_vl = CSV_RTL8111E_VL.iloc[120, 3:39].apply(lambda x: float(x.replace('%',''))) \n",
    "cfr_rtl8111e_vl_list = cfr_rtl8111e_vl.T.tolist()\n",
    "\n",
    "\n",
    "# 993 is C3~F2\n",
    "cfr_rtl8111f_vb = CSV_RTL8111F_VB.iloc[993, 3:39].apply(lambda x: float(x.replace('%','')))\n",
    "cfr_rtl8111f_vb_list = cfr_rtl8111f_vb.T.tolist()\n",
    "\n",
    "# 119 is D6-G5\n",
    "cfr_rtl8111g_cg = CSV_RTL8111G_CG.iloc[119, 2:38].apply(lambda x: float(x.replace('%','')))\n",
    "cfr_rtl8111g_cg_list = cfr_rtl8111g_cg.T.tolist()\n",
    "\n",
    "\n",
    "# 123 is E1-EC, 121 is D6-G5\n",
    "cfr_rtl8111gr_cg = CSV_RTL8111GR_CG.iloc[121, 2:38].apply(lambda x: float(x.replace('%','')))\n",
    "cfr_rtl8111gr_cg_list = cfr_rtl8111gr_cg.T.tolist()\n",
    "\n",
    "\n",
    "# 102 is F4~HB\n",
    "cfr_rtl8111h_cg = CSV_RTL8111H_CG.iloc[102, 2:34].apply(lambda x: float(x.replace('%','')))\n",
    "cfr_rtl8111h_cg_list = cfr_rtl8111h_cg.T.tolist()\n",
    "cfr_rtl8111h_cg_list.append(cfr_rtl8111h_cg_list[-1])\n",
    "cfr_rtl8111h_cg_list.append(cfr_rtl8111h_cg_list[-1])\n",
    "cfr_rtl8111h_cg_list.append(cfr_rtl8111h_cg_list[-1])\n",
    "cfr_rtl8111h_cg_list.append(cfr_rtl8111h_cg_list[-1])\n",
    "\n",
    "\n",
    "# CFR\n",
    "c_all = np.array(cfr_rtl8111e_vl_list + cfr_rtl8111f_vb_list + \n",
    "                 cfr_rtl8111g_cg_list + cfr_rtl8111gr_cg_list + cfr_rtl8111h_cg_list).reshape(-1, 1)\n",
    "_scaler, _ = utils.scale(c_all)\n",
    "\n",
    "def scale_lst_to_arr(scaler, lst):\n",
    "    return np.array([scaler.transform(v) for v in lst]).reshape(len(lst))\n",
    "C = []\n",
    "C.append(scale_lst_to_arr(_scaler, cfr_rtl8111e_vl_list))\n",
    "C.append(scale_lst_to_arr(_scaler, cfr_rtl8111f_vb_list))\n",
    "C.append(scale_lst_to_arr(_scaler, cfr_rtl8111g_cg_list))\n",
    "C.append(scale_lst_to_arr(_scaler, cfr_rtl8111gr_cg_list))\n",
    "C.append(scale_lst_to_arr(_scaler, cfr_rtl8111h_cg_list))\n",
    "\n",
    "c_exl_norm = np.array(C).reshape(5,36,1)\n",
    "\n",
    "print (\"c_exl_norm.shape: {0}\".format(c_exl_norm.shape))\n",
    "print (\"c_exl_norm[0]:\")\n",
    "\n",
    "print (c_exl_norm[0].T)"
   ]
  },
  {
   "cell_type": "code",
   "execution_count": null,
   "metadata": {},
   "outputs": [],
   "source": []
  },
  {
   "cell_type": "code",
   "execution_count": null,
   "metadata": {},
   "outputs": [],
   "source": []
  },
  {
   "cell_type": "code",
   "execution_count": null,
   "metadata": {},
   "outputs": [],
   "source": []
  },
  {
   "cell_type": "code",
   "execution_count": null,
   "metadata": {},
   "outputs": [],
   "source": []
  },
  {
   "cell_type": "code",
   "execution_count": null,
   "metadata": {},
   "outputs": [],
   "source": []
  },
  {
   "cell_type": "markdown",
   "metadata": {},
   "source": [
    "# Prepare Keras"
   ]
  },
  {
   "cell_type": "markdown",
   "metadata": {},
   "source": [
    "# <<固定seed>>"
   ]
  },
  {
   "cell_type": "code",
   "execution_count": null,
   "metadata": {},
   "outputs": [],
   "source": []
  },
  {
   "cell_type": "code",
   "execution_count": 101,
   "metadata": {},
   "outputs": [],
   "source": [
    "RANDOM_SEED = '43'\n",
    "\n",
    "import numpy as np\n",
    "import tensorflow as tf\n",
    "import random as rn\n",
    "\n",
    "# 以下是 Python 3.2.3 以上所必需的，\n",
    "# 为了使某些基于散列的操作可复现。\n",
    "# https://docs.python.org/3.4/using/cmdline.html#envvar-PYTHONHASHSEED\n",
    "# https://github.com/keras-team/keras/issues/2280#issuecomment-306959926\n",
    "\n",
    "import os\n",
    "os.environ['PYTHONHASHSEED'] = '0'\n",
    "\n",
    "# 以下是 Numpy 在一个明确的初始状态生成固定随机数字所必需的。\n",
    "\n",
    "np.random.seed(int(RANDOM_SEED))\n",
    "\n",
    "# 以下是 Python 在一个明确的初始状态生成固定随机数字所必需的。\n",
    "\n",
    "rn.seed(int(RANDOM_SEED))\n",
    "\n",
    "# 强制 TensorFlow 使用单线程。\n",
    "# 多线程是结果不可复现的一个潜在的来源。\n",
    "# 更多详情，见: https://stackoverflow.com/questions/42022950/which-seeds-have-to-be-set-where-to-realize-100-reproducibility-of-training-res\n",
    "# !! for 效能因素，此次暫不使用 !!\n",
    "session_conf = tf.ConfigProto(intra_op_parallelism_threads=1, inter_op_parallelism_threads=1)\n",
    "\n",
    "from keras import backend as K\n",
    "import keras\n",
    "\n",
    "# `tf.set_random_seed()` 将会以 TensorFlow 为后端，\n",
    "# 在一个明确的初始状态下生成固定随机数字。\n",
    "# 更多详情，见: https://www.tensorflow.org/api_docs/python/tf/set_random_seed\n",
    "\n",
    "tf.set_random_seed(int(RANDOM_SEED))\n",
    "\n",
    "# !! for 效能因素，此次暫不使用 !!\n",
    "# sess = tf.Session(graph=tf.get_default_graph(), config=session_conf)\n",
    "# K.set_session(sess)\n",
    "\n",
    "# import tensorflow as tf\n",
    "\n",
    "# config = tf.ConfigProto()\n",
    "# GPU 記憶體不夠時增加\n",
    "session_conf.gpu_options.allow_growth = True\n",
    "# 只使用 10% 的 GPU 記憶體\n",
    "session_conf.gpu_options.per_process_gpu_memory_fraction = 0.25\n",
    "\n",
    "sess = tf.Session(graph=tf.get_default_graph(), config=session_conf)\n",
    "# sess = tf.Session(config=session_conf)\n",
    "# 設定 Keras 使用的 TensorFlow Session\n",
    "K.set_session(sess)"
   ]
  },
  {
   "cell_type": "code",
   "execution_count": 102,
   "metadata": {},
   "outputs": [],
   "source": [
    "import math\n",
    "import h5py\n",
    "import scipy\n",
    "from scipy import ndimage\n",
    "from sklearn.metrics import mean_squared_error\n",
    "import matplotlib.pyplot as plt\n",
    "%matplotlib inline\n",
    "\n",
    "from tensorflow.python.framework import ops\n",
    "\n",
    "from keras.models import load_model, Model, Sequential\n",
    "from keras.layers import Bidirectional, Concatenate, Permute, Dot, Input, LSTM, GRU,\\\n",
    "                         Multiply, Flatten, Embedding, SimpleRNN, RepeatVector, Dense, Activation, Lambda, Reshape,\\\n",
    "                         Dropout\n",
    "from keras import callbacks as Kcallback\n",
    "from keras.callbacks import EarlyStopping\n",
    "from keras.optimizers import Adam\n",
    "from keras.utils import to_categorical\n",
    "from keras.layers import Activation\n",
    "\n",
    "from keras import __version__ as keras__version__\n"
   ]
  },
  {
   "cell_type": "code",
   "execution_count": 103,
   "metadata": {},
   "outputs": [
    {
     "name": "stdout",
     "output_type": "stream",
     "text": [
      "python: 3.5.2 (default, Nov 23 2017, 16:37:01) \n",
      "[GCC 5.4.0 20160609], keras: 2.1.6, tensorflow: 1.5.0\n"
     ]
    }
   ],
   "source": [
    "import sys\n",
    "print(\"python: {}, keras: {}, tensorflow: {}\".format(sys.version, keras__version__, tf.__version__))"
   ]
  },
  {
   "cell_type": "code",
   "execution_count": null,
   "metadata": {},
   "outputs": [],
   "source": []
  },
  {
   "cell_type": "markdown",
   "metadata": {},
   "source": [
    "# Build Pre-processes for Prediction and Evaluation"
   ]
  },
  {
   "cell_type": "code",
   "execution_count": null,
   "metadata": {},
   "outputs": [],
   "source": []
  },
  {
   "cell_type": "code",
   "execution_count": null,
   "metadata": {},
   "outputs": [],
   "source": []
  },
  {
   "cell_type": "code",
   "execution_count": null,
   "metadata": {},
   "outputs": [],
   "source": []
  },
  {
   "cell_type": "code",
   "execution_count": null,
   "metadata": {},
   "outputs": [],
   "source": []
  },
  {
   "cell_type": "markdown",
   "metadata": {},
   "source": [
    "# Setup Training Set, Feature Space and others for Evaluation"
   ]
  },
  {
   "cell_type": "code",
   "execution_count": 104,
   "metadata": {},
   "outputs": [],
   "source": [
    "LN5_SET = ['RTL8111E-VL', 'RTL8111F-VB', 'RTL8111G-CG', 'RTL8111GR-CG', 'RTL8111H-CG']\n",
    "L10_SET = ['RTL8111E-VL', 'RTL8111F-VB', 'RTL8111G-CG', 'RTL8111GR-CG', 'RTL8111H-CG',\n",
    "           'AR8131L-AL1E', 'WG82579V', 'AR8161-AL3A-R', 'WGI217V', 'WGI218V']\n",
    "LN8_SET = ['RTL8111E-VL', 'RTL8111F-VB', 'RTL8111G-CG', 'RTL8111GR-CG', 'RTL8111H-CG',\n",
    "           'AR8131L-AL1E', 'WG82579V', 'WGI218V']\n",
    "\n",
    "\n",
    "LTB_SET = ['RTL8112L', 'AR8131L-AL1E', 'RTL8111E-VB', 'RTL8111E-VL', 'RTL8111F-VB',\n",
    "           'AR8161-BL3A-R', 'RTL8111G-CG', 'RTL8111GR-CG', 'WGI218V', 'RTL8111H-CG']\n",
    "\n",
    "L27_SET = ['RTL8112', 'RTL8112L', 'RTL8131', '82567LF', 'RTL8103EL', 'AR8131L-AL1E',\n",
    "           'WG82578DM', 'RTL8111E-VB', 'WG82567V', 'WG82583V', 'WG82579V', 'AR8151',\n",
    "           'RTL8111E-VL', 'WG82579LM', 'RTL8111F-VB', 'AR8161-AL3A-R', 'AR8161-BL3A-R',\n",
    "           'RTL8111DP-VC', 'WGI217V', 'RTL8111G-CG', 'RTL8111GR-CG', 'WGI217LM',\n",
    "           'WGI218V', 'WGI211AT(A2)', 'WGI218LM', 'RTL8111EP-CG', 'RTL8111H-CG']\n",
    "\n",
    "L18_SET = ['RTL8112L', 'AR8131L-AL1E', 'RTL8111E-VB', 'WG82567V', 'WG82583V',\n",
    "           'WG82579V', 'RTL8111E-VL', 'WG82579LM', 'RTL8111F-VB', 'AR8161-AL3A-R',\n",
    "           'AR8161-BL3A-R', 'WGI217V', 'RTL8111G-CG', 'RTL8111GR-CG', 'WGI217LM',\n",
    "           'WGI218V', 'WGI211AT(A2)', 'RTL8111H-CG']\n",
    "L13_SET = ['RTL8112L', 'AR8131L-AL1E', 'RTL8111E-VB', 'WG82579V', 'RTL8111E-VL',\n",
    "           'RTL8111F-VB', 'AR8161-AL3A-R', 'AR8161-BL3A-R', 'WGI217V', 'RTL8111G-CG',\n",
    "           'RTL8111GR-CG', 'WGI218V', 'RTL8111H-CG']\n",
    "L12_SET = ['RTL8112L', 'AR8131L-AL1E', 'RTL8111E-VB', 'WG82579V', 'RTL8111E-VL',\n",
    "           'RTL8111F-VB', 'AR8161-AL3A-R', 'AR8161-BL3A-R', 'WGI217V', 'RTL8111G-CG',\n",
    "           'RTL8111GR-CG', 'WGI218V']\n",
    "L25_SET = ['RTL8112', 'RTL8112L', 'RTL8131', 'RTL8103EL', 'AR8131L-AL1E',\n",
    "           'WG82578DM', 'RTL8111E-VB', 'WG82567V', 'WG82583V', 'WG82579V',\n",
    "           'RTL8111E-VL', 'WG82579LM', 'RTL8111F-VB', 'AR8161-AL3A-R', 'AR8161-BL3A-R',\n",
    "           'RTL8111DP-VC', 'WGI217V', 'RTL8111G-CG', 'RTL8111GR-CG', 'WGI217LM',\n",
    "           'WGI218V', 'WGI211AT(A2)', 'WGI218LM', 'RTL8111EP-CG', 'RTL8111H-CG']"
   ]
  },
  {
   "cell_type": "code",
   "execution_count": 105,
   "metadata": {},
   "outputs": [
    {
     "name": "stdout",
     "output_type": "stream",
     "text": [
      "ffx: aefghijklm\n"
     ]
    }
   ],
   "source": [
    "MODEL_PATH = \"./ongo/\" + \"CFR_MODEL_LSTM[LrDsDsDsDsDr_f11hn512bs3dp0.001]_Model_R0_aefghijklm_v2_LTB_spc1.h5\"\n",
    "ftr_set = [0] + list(range(4, S_ALL_NORM.shape[1])); VERSION = 2; TAR_NAMES = LTB_SET;\n",
    "\n",
    "TARGET = sorted(set(spc_csv.loc[spc_csv['LAN'].isin(TAR_NAMES)].index.tolist()))\n",
    "\n",
    "ffx = \"\"\n",
    "for v in ftr_set:\n",
    "    ffx += chr(v+97)\n",
    "print(\"ffx: %s\" % ffx)"
   ]
  },
  {
   "cell_type": "code",
   "execution_count": null,
   "metadata": {},
   "outputs": [],
   "source": []
  },
  {
   "cell_type": "code",
   "execution_count": 106,
   "metadata": {},
   "outputs": [
    {
     "name": "stdout",
     "output_type": "stream",
     "text": [
      "Target ids: [1, 5, 7, 12, 14, 16, 19, 20, 22, 26]\n",
      "c_norm.shape: (10, 36, 1)\n",
      "s_all_norm: (29, 10)\n",
      "s_all_norm_f: (10, 10)\n"
     ]
    }
   ],
   "source": [
    "\n",
    "c_dft_norm, _, C_SCALER = utils.create_C(LAN_CSV_DCT, LAN_NAME_ARR, TARGET)\n",
    "s_all_norm = S_ALL_NORM[:, ftr_set]\n",
    "print(\"s_all_norm: {0}\".format(s_all_norm.shape))\n",
    "s_all_norm_f = S_ALL_NORM[TARGET][:, ftr_set]\n",
    "print(\"s_all_norm_f: {0}\".format(s_all_norm_f.shape))\n",
    "\n"
   ]
  },
  {
   "cell_type": "code",
   "execution_count": 107,
   "metadata": {},
   "outputs": [],
   "source": [
    "\n",
    "AR8_NAMES = ['AR8131L-AL1E', 'AR8151', 'AR8161-AL3A-R', 'AR8161-BL3A-R']\n",
    "RTL_NAMES = ['RTL8112', 'RTL8112L', 'RTL8131', 'RTL8111DP-VC', 'RTL8111E-VB', 'RTL8111EP-CG']\n",
    "WGI_NAMES = ['WG82567V', 'WG82578DM', 'WG82579V', 'WG82579LM', 'WG82583V']\n",
    "WG8_NAMES = ['WGI211AT(A2)', 'WGI217LM', 'WGI217V', 'WGI218V', 'WGI218LM']\n",
    "TRG_NAMES = list(LAN_NAME_ARR[TARGET])\n"
   ]
  },
  {
   "cell_type": "code",
   "execution_count": null,
   "metadata": {},
   "outputs": [],
   "source": []
  },
  {
   "cell_type": "code",
   "execution_count": null,
   "metadata": {},
   "outputs": [],
   "source": []
  },
  {
   "cell_type": "code",
   "execution_count": 108,
   "metadata": {},
   "outputs": [
    {
     "name": "stdout",
     "output_type": "stream",
     "text": [
      "['0   ', '4   ', '5   ', '6   ', '7   ', '8   ', '9   ', '10  ', '11  ', '12  ']\n",
      "s_set 0\n",
      "['0.26', '0.05', '0.20', '0.05', '0.30', '0.05', '0.75', '0.30', '0.30', '0.40']\n",
      "['0.30', '0.05', '0.20', '0.05', '0.30', '0.05', '0.75', '0.30', '0.25', '0.40']\n",
      "['0.32', '0.02', '0.20', '0.05', '0.30', '0.05', '0.75', '0.30', '0.38', '0.40']\n",
      "['0.38', '0.05', '0.20', '0.05', '0.30', '0.05', '0.75', '0.30', '0.38', '0.40']\n",
      "['0.44', '0.05', '0.20', '0.05', '0.30', '0.05', '0.75', '0.30', '0.30', '0.40']\n",
      "['0.46', '0.05', '0.10', '0.05', '0.30', '0.05', '0.75', '0.30', '0.25', '0.40']\n",
      "['0.52', '0.10', '0.20', '0.10', '0.30', '0.10', '0.75', '0.30', '0.30', '0.40']\n",
      "['0.52', '0.10', '0.20', '0.10', '0.30', '0.10', '0.75', '0.30', '0.30', '0.40']\n",
      "['0.57', '0.05', '0.20', '0.05', '0.30', '0.05', '0.75', '0.30', '0.30', '0.40']\n",
      "['0.64', '0.10', '0.20', '0.10', '0.30', '0.10', '0.75', '0.30', '0.38', '0.40']\n",
      "s_set 1\n",
      "['0.30', '0.05', '0.20', '0.05', '0.30', '0.05', '0.75', '0.30', '0.25', '0.40']\n",
      "['0.37', '0.05', '0.10', '0.05', '0.30', '0.05', '0.75', '0.30', '0.25', '0.40']\n",
      "['0.45', '0.05', '0.10', '0.05', '0.30', '0.05', '0.75', '0.30', '0.25', '0.40']\n",
      "['0.46', '0.05', '0.10', '0.05', '0.30', '0.05', '0.75', '0.30', '0.25', '0.40']\n",
      "s_set 2\n",
      "['0.25', '0.05', '0.20', '0.05', '0.30', '0.05', '0.75', '0.30', '0.30', '0.40']\n",
      "['0.26', '0.05', '0.20', '0.05', '0.30', '0.05', '0.75', '0.30', '0.30', '0.40']\n",
      "['0.26', '0.05', '0.20', '0.05', '0.30', '0.05', '0.75', '0.30', '0.30', '0.40']\n",
      "['0.51', '0.05', '0.20', '0.05', '0.30', '0.05', '0.75', '0.30', '0.30', '0.40']\n",
      "['0.32', '0.02', '0.20', '0.05', '0.30', '0.05', '0.75', '0.30', '0.38', '0.40']\n",
      "['0.60', '0.05', '0.20', '0.05', '0.30', '0.05', '0.75', '0.30', '0.30', '0.40']\n",
      "s_set 3\n",
      "['0.33', '0.05', '0.20', '0.05', '0.30', '0.05', '0.75', '0.30', '0.30', '0.40']\n",
      "['0.31', '0.05', '0.20', '0.05', '0.30', '0.05', '0.75', '0.30', '0.30', '0.40']\n",
      "['0.36', '0.05', '0.20', '0.05', '0.30', '0.05', '0.75', '0.30', '0.30', '0.40']\n",
      "['0.38', '0.05', '0.20', '0.05', '0.30', '0.05', '0.75', '0.30', '0.30', '0.40']\n",
      "['0.36', '0.05', '0.20', '0.05', '0.30', '0.05', '0.75', '0.30', '0.30', '0.40']\n",
      "s_set 4\n",
      "['0.58', '0.05', '0.20', '0.05', '0.30', '0.10', '0.75', '0.30', '0.38', '0.40']\n",
      "['0.52', '0.05', '0.20', '0.05', '0.30', '0.05', '0.75', '0.30', '0.30', '0.40']\n",
      "['0.51', '0.05', '0.20', '0.05', '0.30', '0.10', '0.75', '0.30', '0.30', '0.40']\n",
      "['0.57', '0.05', '0.20', '0.05', '0.30', '0.05', '0.75', '0.30', '0.30', '0.40']\n",
      "['0.59', '0.05', '0.20', '0.05', '0.30', '0.05', '0.75', '0.30', '0.30', '0.40']\n"
     ]
    }
   ],
   "source": [
    "ALL_SETS = []\n",
    "ALL_SETS.append(TARGET)\n",
    "AR8_SET = [LAN_NAME_LST.index(name) for name in AR8_NAMES]; ALL_SETS.append(AR8_SET)\n",
    "RTL_SET = [LAN_NAME_LST.index(name) for name in RTL_NAMES]; ALL_SETS.append(RTL_SET)\n",
    "WGI_SET = [LAN_NAME_LST.index(name) for name in WGI_NAMES]; ALL_SETS.append(WGI_SET)\n",
    "WG8_SET = [LAN_NAME_LST.index(name) for name in WG8_NAMES]; ALL_SETS.append(WG8_SET)\n",
    "\n",
    "print([\"{:4s}\".format(str(i)) for i in ftr_set])\n",
    "\n",
    "S_SETS = []\n",
    "for i in range(len(ALL_SETS)):\n",
    "    s_tar = s_all_norm[ALL_SETS[i]]\n",
    "    S_SETS.append(s_tar)\n",
    "    print(\"s_set \" + str(i))\n",
    "    for row in s_tar:\n",
    "        A = [\"{:0.2f}\".format(s) for s in row]\n",
    "        print (A)"
   ]
  },
  {
   "cell_type": "code",
   "execution_count": null,
   "metadata": {},
   "outputs": [],
   "source": []
  },
  {
   "cell_type": "code",
   "execution_count": 109,
   "metadata": {},
   "outputs": [
    {
     "name": "stdout",
     "output_type": "stream",
     "text": [
      "SET 0\n",
      "Target ids: [1, 5, 7, 12, 14, 16, 19, 20, 22, 26]\n",
      "c_norm.shape: (10, 36, 1)\n",
      "Got cfr arr of shape (10, 36, 1)\n",
      "SET 1\n",
      "Target ids: [5, 11, 15, 16]\n",
      "c_norm.shape: (4, 36, 1)\n",
      "Got cfr arr of shape (4, 36, 1)\n",
      "SET 2\n",
      "Target ids: [0, 1, 2, 17, 7, 25]\n",
      "c_norm.shape: (6, 36, 1)\n",
      "Got cfr arr of shape (6, 36, 1)\n",
      "SET 3\n",
      "Target ids: [8, 6, 10, 13, 9]\n",
      "c_norm.shape: (5, 36, 1)\n",
      "Got cfr arr of shape (5, 36, 1)\n",
      "SET 4\n",
      "Target ids: [23, 21, 18, 22, 24]\n",
      "c_norm.shape: (5, 36, 1)\n",
      "Got cfr arr of shape (5, 36, 1)\n"
     ]
    }
   ],
   "source": [
    "CFR_ARRS = []\n",
    "for i in range(len(ALL_SETS)):\n",
    "\n",
    "    SET = ALL_SETS[i]\n",
    "    print(\"SET {0}\".format(i))\n",
    "\n",
    "    def scale_lst_to_arr(scaler, lst):\n",
    "        return np.array([scaler.transform(v) for v in lst]).reshape(len(lst))\n",
    "    \n",
    "    _, G, _ = utils.create_C(LAN_CSV_DCT, LAN_NAME_ARR, SET)\n",
    "    CFR_ARR = G.reshape(G.shape[0], G.shape[1])\n",
    "    L = []\n",
    "    [L.append(scale_lst_to_arr(C_SCALER, arr)) for arr in CFR_ARR]\n",
    "\n",
    "    CFR_ARR_sc = np.array(L).reshape(CFR_ARR.shape[0], CFR_ARR.shape[1], 1)\n",
    "    print (\"Got cfr arr of shape {0}\".format(CFR_ARR_sc.shape))\n",
    "    CFR_ARRS.append(CFR_ARR_sc)"
   ]
  },
  {
   "cell_type": "code",
   "execution_count": null,
   "metadata": {},
   "outputs": [],
   "source": []
  },
  {
   "cell_type": "code",
   "execution_count": 110,
   "metadata": {},
   "outputs": [
    {
     "name": "stdout",
     "output_type": "stream",
     "text": [
      "Create inference model ... \n",
      "Done (./ongo/CFR_MODEL_LSTM[LrDsDsDsDsDr_f11hn512bs3dp0.001]_Model_R0_aefghijklm_v2_LTB_spc1.h5)\n",
      "Save ...\n"
     ]
    },
    {
     "name": "stderr",
     "output_type": "stream",
     "text": [
      "/home/jerry3chang/Workspace/tensorflow_py3/lib/python3.5/site-packages/keras/engine/topology.py:2379: UserWarning: Layer lstm_1 was passed non-serializable keyword arguments: {'initial_state': [<tf.Tensor 'a0_3:0' shape=(?, 512) dtype=float32>, <tf.Tensor 'c0_3:0' shape=(?, 512) dtype=float32>]}. They will not be included in the serialized model (and thus will be missing at deserialization time).\n",
      "  str(node.arguments) + '. They will not be included '\n"
     ]
    },
    {
     "name": "stdout",
     "output_type": "stream",
     "text": [
      "Done\n"
     ]
    }
   ],
   "source": [
    "pred_timesteps = 36\n",
    "\n",
    "_, _, F, Y = utils.get_xy_from_sAc(s_all_norm_f, c_dft_norm, pred_timesteps, list(range(c_dft_norm.shape[0])))\n",
    "X = F[:,:,(3-VERSION):]\n",
    "input_features = X.shape[2]\n",
    "output_features = Y.shape[2]\n",
    "hidden_neurons = 512\n",
    "\n",
    "model_inf = utils.round_part_inf(MODEL_PATH, input_features, output_features, hidden_neurons, pred_timesteps)\n",
    "\n",
    "MODEL_INF_PATH = MODEL_PATH.replace(\"_Model_\", \"_ModelInf_\")\n",
    "print(\"Save ...\")\n",
    "model_inf.save(MODEL_INF_PATH)\n",
    "print(\"Done\")"
   ]
  },
  {
   "cell_type": "code",
   "execution_count": 111,
   "metadata": {},
   "outputs": [],
   "source": [
    "from IPython.display import SVG\n",
    "from keras.utils.vis_utils import model_to_dot\n",
    "\n",
    "# SVG(model_to_dot(inference_model, show_shapes=True).create(prog='dot', format='svg'))\n",
    "\n",
    "from IPython.display import Image\n",
    "# Image(model_to_dot(model_inf, show_shapes=True).create(prog='dot', format='png'))"
   ]
  },
  {
   "cell_type": "code",
   "execution_count": null,
   "metadata": {},
   "outputs": [],
   "source": []
  },
  {
   "cell_type": "code",
   "execution_count": null,
   "metadata": {},
   "outputs": [],
   "source": [
    "\n"
   ]
  },
  {
   "cell_type": "code",
   "execution_count": null,
   "metadata": {},
   "outputs": [],
   "source": []
  },
  {
   "cell_type": "code",
   "execution_count": null,
   "metadata": {},
   "outputs": [],
   "source": []
  },
  {
   "cell_type": "code",
   "execution_count": null,
   "metadata": {},
   "outputs": [],
   "source": []
  },
  {
   "cell_type": "code",
   "execution_count": 112,
   "metadata": {},
   "outputs": [],
   "source": [
    "def demo(selection, model):\n",
    "\n",
    "    for set_num in selection:\n",
    "\n",
    "        SET = ALL_SETS[set_num]\n",
    "        print (LAN_NAME_ARR[SET])\n",
    "\n",
    "        S, C = S_SETS[set_num], CFR_ARRS[set_num]\n",
    "\n",
    "        print([\"{:4s}\".format(str(i)) for i in ftr_set])\n",
    "        print([\"{:4s}\".format(ftr_dct[i]) for i in ftr_set])\n",
    "        \n",
    "        for row in S:\n",
    "            A = [\"{:0.2f}\".format(s) for s in row]\n",
    "            print (A)\n",
    "\n",
    "        ts_tra = 30; ts_prd = 36        \n",
    "        \n",
    "        _, _, F, Y = utils.get_xy_from_sAc(S, C[:,:,:], ts_prd, list(range(C.shape[0])))\n",
    "        X = F[:,:,(3-VERSION):]\n",
    "        \n",
    "        #all_pred = round_part_prd(model, X[:, :ts_tra, :], ts_prd, hidden_neurons)\n",
    "        all_pred = utils.round_part_prd_exp(model, F, ts_prd, hidden_neurons, version=VERSION)\n",
    "        \n",
    "        mse_all, mse_cut = utils.round_part_mse(all_pred, X, Y, ts_tra)\n",
    "        mse_cut_str = \"{:0.5f}\".format(mse_cut)\n",
    "\n",
    "        print (\"Real\")\n",
    "        for i in range(Y.shape[0]):\n",
    "            print ([\"{:0.5f}\".format(s) for s in Y[i].T.reshape(-1)][-5:])\n",
    "\n",
    "        print (\"Prediction\")\n",
    "        for i in range(all_pred.shape[0]):\n",
    "            print ([\"{:0.5f}\".format(s) for s in all_pred[i].T.reshape(-1)][-5:])            \n",
    "\n",
    "\n",
    "        len_lst = [len(l) for l in ALL_SETS]\n",
    "        beg_lst = [sum(len_lst[0:k]) for k in range(len(len_lst))]\n",
    "        utils.plot_results(LAN_NAME_ARR[SET][0][0:5],\n",
    "                           np.concatenate((Y, all_pred), axis = 0),\n",
    "                           ['-'] * Y.shape[0] + ['^'] * all_pred.shape[0],\n",
    "                           utils.DEF_CLR[beg_lst[set_num]:beg_lst[set_num]+len_lst[set_num]] * 2,\n",
    "                           [LAN_NAME_ARR[SET][i][0:11] for i in range(len(LAN_NAME_ARR[SET]))],\n",
    "                           [1] * Y.shape[0] + [0] * all_pred.shape[0], 30, ts_prd)\n",
    "        \n",
    "        \n",
    "        all_pred = utils.round_part_prd_exp(model, F, 48, hidden_neurons, version=VERSION)\n",
    "        utils.plot_results(\"48 months prediction\",\n",
    "                           all_pred,\n",
    "                           ['^'] * all_pred.shape[0],\n",
    "                           utils.DEF_CLR[beg_lst[set_num]:beg_lst[set_num]+len_lst[set_num]],\n",
    "                           [LAN_NAME_ARR[SET][i][0:11] for i in range(len(LAN_NAME_ARR[SET]))],\n",
    "                           [0] * all_pred.shape[0], 30, 48)\n",
    "    return"
   ]
  },
  {
   "cell_type": "code",
   "execution_count": 113,
   "metadata": {},
   "outputs": [
    {
     "name": "stdout",
     "output_type": "stream",
     "text": [
      "['RTL8112L' 'AR8131L-AL1E' 'RTL8111E-VB' 'RTL8111E-VL' 'RTL8111F-VB'\n",
      " 'AR8161-BL3A-R' 'RTL8111G-CG' 'RTL8111GR-CG' 'WGI218V' 'RTL8111H-CG']\n",
      "['0   ', '4   ', '5   ', '6   ', '7   ', '8   ', '9   ', '10  ', '11  ', '12  ']\n",
      "['Tmst', 'IC2L', 'Nm2G', 'Nm2L', 'AD2G', 'AD2L', 'Gd2G', 'Gd2L', 'PwPn', 'ESD ']\n",
      "['0.26', '0.05', '0.20', '0.05', '0.30', '0.05', '0.75', '0.30', '0.30', '0.40']\n",
      "['0.30', '0.05', '0.20', '0.05', '0.30', '0.05', '0.75', '0.30', '0.25', '0.40']\n",
      "['0.32', '0.02', '0.20', '0.05', '0.30', '0.05', '0.75', '0.30', '0.38', '0.40']\n",
      "['0.38', '0.05', '0.20', '0.05', '0.30', '0.05', '0.75', '0.30', '0.38', '0.40']\n",
      "['0.44', '0.05', '0.20', '0.05', '0.30', '0.05', '0.75', '0.30', '0.30', '0.40']\n",
      "['0.46', '0.05', '0.10', '0.05', '0.30', '0.05', '0.75', '0.30', '0.25', '0.40']\n",
      "['0.52', '0.10', '0.20', '0.10', '0.30', '0.10', '0.75', '0.30', '0.30', '0.40']\n",
      "['0.52', '0.10', '0.20', '0.10', '0.30', '0.10', '0.75', '0.30', '0.30', '0.40']\n",
      "['0.57', '0.05', '0.20', '0.05', '0.30', '0.05', '0.75', '0.30', '0.30', '0.40']\n",
      "['0.64', '0.10', '0.20', '0.10', '0.30', '0.10', '0.75', '0.30', '0.38', '0.40']\n",
      "\n",
      "Predict (VERSION 2, num_ftr: 11) ...\n",
      "all_pred.shape: (10, 36, 1)\n",
      "\n",
      "Real\n",
      "['0.21700', '0.22089', '0.22408', '0.22793', '0.23154']\n",
      "['0.26649', '0.27198', '0.27708', '0.28176', '0.28602']\n",
      "['0.47537', '0.47921', '0.48341', '0.48885', '0.49722']\n",
      "['0.93924', '0.95439', '0.97019', '0.98490', '1.00000']\n",
      "['0.67268', '0.68069', '0.68718', '0.69395', '0.70105']\n",
      "['0.35188', '0.35606', '0.35872', '0.36147', '0.36632']\n",
      "['0.19412', '0.20199', '0.21007', '0.21958', '0.22786']\n",
      "['0.19729', '0.20610', '0.21481', '0.22335', '0.23076']\n",
      "['0.10759', '0.11081', '0.11463', '0.12038', '0.12700']\n",
      "['0.29682', '0.34947', '0.33393', '0.34735', '0.37796']\n",
      "Prediction\n",
      "['0.24860', '0.25110', '0.25314', '0.25478', '0.25606']\n",
      "['0.22695', '0.22825', '0.22913', '0.22964', '0.22985']\n",
      "['0.51492', '0.52670', '0.53847', '0.55027', '0.56210']\n",
      "['0.92772', '0.93991', '0.94998', '0.95808', '0.96438']\n",
      "['0.58166', '0.59258', '0.60329', '0.61388', '0.62441']\n",
      "['0.38521', '0.38696', '0.38855', '0.39000', '0.39133']\n",
      "['0.18047', '0.18545', '0.19056', '0.19566', '0.20068']\n",
      "['0.18047', '0.18545', '0.19056', '0.19566', '0.20068']\n",
      "['0.09396', '0.09472', '0.09546', '0.09617', '0.09685']\n",
      "['0.25820', '0.27218', '0.28667', '0.30163', '0.31697']\n"
     ]
    },
    {
     "data": {
      "image/png": "[encoded data removed]",
      "text/plain": [
       "<matplotlib.figure.Figure at 0x7fc1b9a9b518>"
      ]
     },
     "metadata": {},
     "output_type": "display_data"
    },
    {
     "name": "stdout",
     "output_type": "stream",
     "text": [
      "\n",
      "Predict (VERSION 2, num_ftr: 11) ...\n",
      "all_pred.shape: (10, 48, 1)\n",
      "\n"
     ]
    },
    {
     "data": {
      "image/png": "[encoded data removed]",
      "text/plain": [
       "<matplotlib.figure.Figure at 0x7fc1b9b19668>"
      ]
     },
     "metadata": {},
     "output_type": "display_data"
    }
   ],
   "source": [
    "demo([0], model_inf)"
   ]
  },
  {
   "cell_type": "code",
   "execution_count": 114,
   "metadata": {},
   "outputs": [
    {
     "name": "stdout",
     "output_type": "stream",
     "text": [
      "['AR8131L-AL1E' 'AR8151' 'AR8161-AL3A-R' 'AR8161-BL3A-R']\n",
      "['0   ', '4   ', '5   ', '6   ', '7   ', '8   ', '9   ', '10  ', '11  ', '12  ']\n",
      "['Tmst', 'IC2L', 'Nm2G', 'Nm2L', 'AD2G', 'AD2L', 'Gd2G', 'Gd2L', 'PwPn', 'ESD ']\n",
      "['0.30', '0.05', '0.20', '0.05', '0.30', '0.05', '0.75', '0.30', '0.25', '0.40']\n",
      "['0.37', '0.05', '0.10', '0.05', '0.30', '0.05', '0.75', '0.30', '0.25', '0.40']\n",
      "['0.45', '0.05', '0.10', '0.05', '0.30', '0.05', '0.75', '0.30', '0.25', '0.40']\n",
      "['0.46', '0.05', '0.10', '0.05', '0.30', '0.05', '0.75', '0.30', '0.25', '0.40']\n",
      "\n",
      "Predict (VERSION 2, num_ftr: 11) ...\n",
      "all_pred.shape: (4, 36, 1)\n",
      "\n",
      "Real\n",
      "['0.26649', '0.27198', '0.27708', '0.28176', '0.28602']\n",
      "['6.70084', '6.72437', '6.74453', '6.76680', '7.49400']\n",
      "['0.20146', '0.20301', '0.20845', '0.20882', '0.21029']\n",
      "['0.35188', '0.35606', '0.35872', '0.36147', '0.36632']\n",
      "Prediction\n",
      "['0.22695', '0.22825', '0.22913', '0.22964', '0.22985']\n",
      "['0.40427', '0.40543', '0.40644', '0.40732', '0.40808']\n",
      "['0.39997', '0.40182', '0.40350', '0.40502', '0.40642']\n",
      "['0.38521', '0.38696', '0.38855', '0.39000', '0.39133']\n"
     ]
    },
    {
     "data": {
      "image/png": "[encoded data removed]",
      "text/plain": [
       "<matplotlib.figure.Figure at 0x7fc1b9715cf8>"
      ]
     },
     "metadata": {},
     "output_type": "display_data"
    },
    {
     "name": "stdout",
     "output_type": "stream",
     "text": [
      "\n",
      "Predict (VERSION 2, num_ftr: 11) ...\n",
      "all_pred.shape: (4, 48, 1)\n",
      "\n"
     ]
    },
    {
     "data": {
      "image/png": "[encoded data removed]",
      "text/plain": [
       "<matplotlib.figure.Figure at 0x7fc1bb501588>"
      ]
     },
     "metadata": {},
     "output_type": "display_data"
    },
    {
     "name": "stdout",
     "output_type": "stream",
     "text": [
      "['RTL8112' 'RTL8112L' 'RTL8131' 'RTL8111DP-VC' 'RTL8111E-VB'\n",
      " 'RTL8111EP-CG']\n",
      "['0   ', '4   ', '5   ', '6   ', '7   ', '8   ', '9   ', '10  ', '11  ', '12  ']\n",
      "['Tmst', 'IC2L', 'Nm2G', 'Nm2L', 'AD2G', 'AD2L', 'Gd2G', 'Gd2L', 'PwPn', 'ESD ']\n",
      "['0.25', '0.05', '0.20', '0.05', '0.30', '0.05', '0.75', '0.30', '0.30', '0.40']\n",
      "['0.26', '0.05', '0.20', '0.05', '0.30', '0.05', '0.75', '0.30', '0.30', '0.40']\n",
      "['0.26', '0.05', '0.20', '0.05', '0.30', '0.05', '0.75', '0.30', '0.30', '0.40']\n",
      "['0.51', '0.05', '0.20', '0.05', '0.30', '0.05', '0.75', '0.30', '0.30', '0.40']\n",
      "['0.32', '0.02', '0.20', '0.05', '0.30', '0.05', '0.75', '0.30', '0.38', '0.40']\n",
      "['0.60', '0.05', '0.20', '0.05', '0.30', '0.05', '0.75', '0.30', '0.30', '0.40']\n",
      "\n",
      "Predict (VERSION 2, num_ftr: 11) ...\n",
      "all_pred.shape: (6, 36, 1)\n",
      "\n",
      "Real\n",
      "['0.00000', '0.00000', '0.00000', '0.00000', '0.00000']\n",
      "['0.21700', '0.22089', '0.22408', '0.22793', '0.23154']\n",
      "['0.00000', '0.00000', '0.00000', '0.01686', '0.01686']\n",
      "['0.00000', '0.00000', '0.00000', '0.00000', '0.00000']\n",
      "['0.47537', '0.47921', '0.48341', '0.48885', '0.49722']\n",
      "['0.00000', '0.00000', '0.00000', '0.00000', '0.00000']\n",
      "Prediction\n",
      "['0.23640', '0.23925', '0.24164', '0.24360', '0.24514']\n",
      "['0.24860', '0.25110', '0.25314', '0.25478', '0.25606']\n",
      "['0.24860', '0.25110', '0.25314', '0.25478', '0.25606']\n",
      "['0.42158', '0.43270', '0.44383', '0.45501', '0.46621']\n",
      "['0.51492', '0.52670', '0.53847', '0.55027', '0.56210']\n",
      "['0.02948', '0.02988', '0.03023', '0.03051', '0.03074']\n"
     ]
    },
    {
     "data": {
      "image/png": "[encoded data removed]",
      "text/plain": [
       "<matplotlib.figure.Figure at 0x7fc1bb50d6a0>"
      ]
     },
     "metadata": {},
     "output_type": "display_data"
    },
    {
     "name": "stdout",
     "output_type": "stream",
     "text": [
      "\n",
      "Predict (VERSION 2, num_ftr: 11) ...\n",
      "all_pred.shape: (6, 48, 1)\n",
      "\n"
     ]
    },
    {
     "data": {
      "image/png": "[encoded data removed]",
      "text/plain": [
       "<matplotlib.figure.Figure at 0x7fc1bcad6208>"
      ]
     },
     "metadata": {},
     "output_type": "display_data"
    }
   ],
   "source": [
    "demo([1,2], model_inf)"
   ]
  },
  {
   "cell_type": "code",
   "execution_count": 115,
   "metadata": {},
   "outputs": [
    {
     "name": "stdout",
     "output_type": "stream",
     "text": [
      "['WG82567V' 'WG82578DM' 'WG82579V' 'WG82579LM' 'WG82583V']\n",
      "['0   ', '4   ', '5   ', '6   ', '7   ', '8   ', '9   ', '10  ', '11  ', '12  ']\n",
      "['Tmst', 'IC2L', 'Nm2G', 'Nm2L', 'AD2G', 'AD2L', 'Gd2G', 'Gd2L', 'PwPn', 'ESD ']\n",
      "['0.33', '0.05', '0.20', '0.05', '0.30', '0.05', '0.75', '0.30', '0.30', '0.40']\n",
      "['0.31', '0.05', '0.20', '0.05', '0.30', '0.05', '0.75', '0.30', '0.30', '0.40']\n",
      "['0.36', '0.05', '0.20', '0.05', '0.30', '0.05', '0.75', '0.30', '0.30', '0.40']\n",
      "['0.38', '0.05', '0.20', '0.05', '0.30', '0.05', '0.75', '0.30', '0.30', '0.40']\n",
      "['0.36', '0.05', '0.20', '0.05', '0.30', '0.05', '0.75', '0.30', '0.30', '0.40']\n",
      "\n",
      "Predict (VERSION 2, num_ftr: 11) ...\n",
      "all_pred.shape: (5, 36, 1)\n",
      "\n",
      "Real\n",
      "['0.07625', '0.07625', '0.07625', '0.07625', '0.07625']\n",
      "['0.06630', '0.06630', '0.06630', '0.07121', '0.07121']\n",
      "['0.26807', '0.26969', '0.27097', '0.27241', '0.27819']\n",
      "['0.36041', '0.36041', '0.36041', '0.36041', '0.36041']\n",
      "['0.42777', '0.45763', '0.46025', '0.47402', '0.47402']\n",
      "Prediction\n",
      "['0.36008', '0.36361', '0.36690', '0.36999', '0.37290']\n",
      "['0.32774', '0.33076', '0.33353', '0.33609', '0.33847']\n",
      "['0.44391', '0.45011', '0.45614', '0.46205', '0.46784']\n",
      "['0.50216', '0.51048', '0.51867', '0.52674', '0.53471']\n",
      "['0.42931', '0.43503', '0.44058', '0.44599', '0.45127']\n"
     ]
    },
    {
     "data": {
      "image/png": "[encoded data removed]",
      "text/plain": [
       "<matplotlib.figure.Figure at 0x7fc1b89cc5c0>"
      ]
     },
     "metadata": {},
     "output_type": "display_data"
    },
    {
     "name": "stdout",
     "output_type": "stream",
     "text": [
      "\n",
      "Predict (VERSION 2, num_ftr: 11) ...\n",
      "all_pred.shape: (5, 48, 1)\n",
      "\n"
     ]
    },
    {
     "data": {
      "image/png": "[encoded data removed]",
      "text/plain": [
       "<matplotlib.figure.Figure at 0x7fc1b89bec18>"
      ]
     },
     "metadata": {},
     "output_type": "display_data"
    },
    {
     "name": "stdout",
     "output_type": "stream",
     "text": [
      "['WGI211AT(A2)' 'WGI217LM' 'WGI217V' 'WGI218V' 'WGI218LM']\n",
      "['0   ', '4   ', '5   ', '6   ', '7   ', '8   ', '9   ', '10  ', '11  ', '12  ']\n",
      "['Tmst', 'IC2L', 'Nm2G', 'Nm2L', 'AD2G', 'AD2L', 'Gd2G', 'Gd2L', 'PwPn', 'ESD ']\n",
      "['0.58', '0.05', '0.20', '0.05', '0.30', '0.10', '0.75', '0.30', '0.38', '0.40']\n",
      "['0.52', '0.05', '0.20', '0.05', '0.30', '0.05', '0.75', '0.30', '0.30', '0.40']\n",
      "['0.51', '0.05', '0.20', '0.05', '0.30', '0.10', '0.75', '0.30', '0.30', '0.40']\n",
      "['0.57', '0.05', '0.20', '0.05', '0.30', '0.05', '0.75', '0.30', '0.30', '0.40']\n",
      "['0.59', '0.05', '0.20', '0.05', '0.30', '0.05', '0.75', '0.30', '0.30', '0.40']\n",
      "\n",
      "Predict (VERSION 2, num_ftr: 11) ...\n",
      "all_pred.shape: (5, 36, 1)\n",
      "\n",
      "Real\n",
      "['0.10725', '0.10925', '0.11062', '0.09243', '0.09434']\n",
      "['0.07657', '0.07703', '0.07978', '0.08273', '0.08432']\n",
      "['0.13540', '0.13751', '0.13906', '0.14007', '0.14879']\n",
      "['0.10759', '0.11081', '0.11463', '0.12038', '0.12700']\n",
      "['0.01612', '0.01701', '0.01801', '0.01914', '0.00847']\n",
      "Prediction\n",
      "['0.35646', '0.37402', '0.39170', '0.40950', '0.42742']\n",
      "['0.38470', '0.39489', '0.40508', '0.41532', '0.42562']\n",
      "['0.08236', '0.08305', '0.08363', '0.08413', '0.08456']\n",
      "['0.09396', '0.09472', '0.09546', '0.09617', '0.09685']\n",
      "['0.03671', '0.03684', '0.03700', '0.03718', '0.03737']\n"
     ]
    },
    {
     "data": {
      "image/png": "[encoded data removed]",
      "text/plain": [
       "<matplotlib.figure.Figure at 0x7fc1b8970198>"
      ]
     },
     "metadata": {},
     "output_type": "display_data"
    },
    {
     "name": "stdout",
     "output_type": "stream",
     "text": [
      "\n",
      "Predict (VERSION 2, num_ftr: 11) ...\n",
      "all_pred.shape: (5, 48, 1)\n",
      "\n"
     ]
    },
    {
     "data": {
      "image/png": "[encoded data removed]",
      "text/plain": [
       "<matplotlib.figure.Figure at 0x7fc1b89353c8>"
      ]
     },
     "metadata": {},
     "output_type": "display_data"
    }
   ],
   "source": [
    "demo([3,4], model_inf)"
   ]
  },
  {
   "cell_type": "code",
   "execution_count": null,
   "metadata": {},
   "outputs": [],
   "source": []
  },
  {
   "cell_type": "code",
   "execution_count": 116,
   "metadata": {},
   "outputs": [
    {
     "name": "stdout",
     "output_type": "stream",
     "text": [
      "['RTL8112' 'RTL8112L' 'RTL8131' '82567LF' 'RTL8103EL' 'AR8131L-AL1E'\n",
      " 'WG82578DM' 'RTL8111E-VB' 'WG82567V' 'WG82583V' 'WG82579V' 'AR8151'\n",
      " 'RTL8111E-VL' 'WG82579LM' 'RTL8111F-VB' 'AR8161-AL3A-R' 'AR8161-BL3A-R'\n",
      " 'RTL8111DP-VC' 'WGI217V' 'RTL8111G-CG' 'RTL8111GR-CG' 'WGI217LM'\n",
      " 'WGI218V' 'WGI211AT(A2)' 'WGI218LM' 'RTL8111EP-CG' 'RTL8111H-CG']\n"
     ]
    }
   ],
   "source": [
    "print (LAN_NAME_ARR)"
   ]
  },
  {
   "cell_type": "code",
   "execution_count": null,
   "metadata": {},
   "outputs": [],
   "source": []
  },
  {
   "cell_type": "code",
   "execution_count": 117,
   "metadata": {},
   "outputs": [
    {
     "name": "stdout",
     "output_type": "stream",
     "text": [
      "Target ids: [0, 1, 2, 3, 4, 5, 6, 7, 8, 9, 10, 11, 12, 13, 14, 15, 16, 17, 18, 19, 20, 21, 22, 23, 24, 25, 26]\n",
      "c_norm.shape: (27, 36, 1)\n",
      "\n",
      "Predict (VERSION 2, num_ftr: 11) ...\n",
      "all_pred.shape: (27, 36, 1)\n",
      "\n"
     ]
    }
   ],
   "source": [
    "def processing_lan(model, debug = False):\n",
    "    \n",
    "   \n",
    "    if debug:\n",
    "        print([\"{:4s}\".format(str(i)) for i in ftr_set])\n",
    "        print([\"{:4s}\".format(ftr_dct[i]) for i in ftr_set])\n",
    "    \n",
    "    all_lans = list(range(len(LAN_NAME_ARR)))\n",
    "    \n",
    "    _, G, _ = utils.create_C(LAN_CSV_DCT, LAN_NAME_ARR, all_lans)\n",
    "        \n",
    "    def scale_lst_to_arr(scaler, lst):\n",
    "        return np.array([scaler.transform(v) for v in lst]).reshape(len(lst))\n",
    "\n",
    "    CFR_ARR = G.reshape(G.shape[0], G.shape[1])\n",
    "    \n",
    "    L = []\n",
    "    [L.append(scale_lst_to_arr(C_SCALER, arr)) for arr in CFR_ARR]\n",
    "    C = np.array(L).reshape(CFR_ARR.shape[0], CFR_ARR.shape[1], 1)\n",
    "    S = S_ALL_NORM[all_lans]\n",
    "\n",
    "\n",
    "    ts_tra = 30; ts_prd = 36\n",
    "    _, _, F, Y = utils.get_xy_from_sAc(S[:,ftr_set], C[:,:,:], ts_prd, list(range(C.shape[0])))\n",
    "    X = F[:,:,(3-VERSION):]\n",
    "        \n",
    "    #all_pred = round_part_prd(model, X[:, :ts_tra, :], ts_prd, hidden_neurons)\n",
    "    all_pred = utils.round_part_prd_exp(model, F, ts_prd, hidden_neurons, version=VERSION)\n",
    "    \n",
    "    real_dct = dict(); prdt_dct = dict()\n",
    "    \n",
    "    for j in range(len(S)):\n",
    "        \n",
    "        nm = LAN_NAME_ARR[j]\n",
    "        if debug:\n",
    "            pa = [\"{:0.2f}\".format(s) for s in S[j]]\n",
    "            print(\"{0}: {1}\".format(nm, pa))\n",
    "        \n",
    "        re = Y[j].T.reshape(-1)\n",
    "        pr = all_pred[j].T.reshape(-1)\n",
    "        \n",
    "        \"\"\"\n",
    "        Note that the values are scaled\n",
    "        \"\"\"\n",
    "        #print (\"{0:0.3f} {1:0.3f} {2}\".format(re[-1], pr[-1], nm))\n",
    "        real_dct[nm] = re[-1]\n",
    "        prdt_dct[nm] = pr[-1]\n",
    "        \n",
    "\n",
    "    return real_dct, prdt_dct\n",
    "\n",
    "REAL_DCT, PRDT_DCT = processing_lan(model_inf)"
   ]
  },
  {
   "cell_type": "code",
   "execution_count": null,
   "metadata": {},
   "outputs": [],
   "source": []
  },
  {
   "cell_type": "code",
   "execution_count": 118,
   "metadata": {},
   "outputs": [],
   "source": [
    "def sort_by_value(d): \n",
    "    items = d.items()\n",
    "    backitems = [[v[1],v[0]] for v in items]\n",
    "    backitems.sort(reverse=True)\n",
    "    return [ (backitems[i][1], backitems[i][0]) for i in range(0,len(backitems)) ]\n",
    "\n",
    "excluded_sets = []\n",
    "excluded_sets.append([])\n",
    "\n",
    "\"\"\"\n",
    "Abnormal\n",
    "\"\"\"\n",
    "exclude0 = ['82567LF', 'AR8151']\n",
    "excluded_sets.append(exclude0)\n",
    "group_a = [v for v in LAN_NAME_LST if v not in excluded_sets[1]]\n",
    "\"\"\"\n",
    "Below 1000\n",
    "\"\"\"\n",
    "excluded = ['WG82578DM', 'WGI218LM', 'RTL8112', 'RTL8131', 'RTL8111DP-VC', 'RTL8111EP-CG',\n",
    "            'RTL8103EL'] # '82567LM'\n",
    "excluded_sets.append(exclude0 + excluded)\n",
    "group_b = [v for v in LAN_NAME_LST if v not in excluded_sets[2]]\n",
    "\"\"\"\n",
    "Exceed 1000, Below 10000\n",
    "\"\"\"\n",
    "exclude2 = ['WG82567V', 'WG82579LM', 'WG82583V', 'WGI211AT(A2)', 'WGI217LM']\n",
    "excluded_sets.append(exclude0 + excluded + exclude2)\n",
    "group_c = [v for v in LAN_NAME_LST if v not in excluded_sets[3]]\n",
    "\"\"\"\n",
    "Exceed 10000, Below 70000\n",
    "\"\"\"\n",
    "exclude3 = ['WG82579V', 'WGI217V', 'AR8161-AL3A-R']\n",
    "excluded_sets.append(exclude0 + excluded + exclude2 + exclude3)\n",
    "group_d = [v for v in LAN_NAME_LST if v not in excluded_sets[4]]\n"
   ]
  },
  {
   "cell_type": "code",
   "execution_count": null,
   "metadata": {},
   "outputs": [],
   "source": []
  },
  {
   "cell_type": "code",
   "execution_count": 119,
   "metadata": {},
   "outputs": [
    {
     "name": "stdout",
     "output_type": "stream",
     "text": [
      "ftr_set: [0, 4, 5, 6, 7, 8, 9, 10, 11, 12], VERSION: 2\n",
      "model: ./ongo/CFR_MODEL_LSTM[LrDsDsDsDsDr_f11hn512bs3dp0.001]_Model_R0_aefghijklm_v2_LTB_spc1.h5\n",
      "\n",
      "['RTL8112L' 'AR8131L-AL1E' 'RTL8111E-VB' 'RTL8111E-VL' 'RTL8111F-VB'\n",
      " 'AR8161-BL3A-R' 'RTL8111G-CG' 'RTL8111GR-CG' 'WGI218V' 'RTL8111H-CG']\n",
      "Kendall: 0.0444, nDCG: 0.9991\n",
      "Real          | Prdt         \n",
      "RTL8111E-VL   | RTL8111E-VL  \n",
      "RTL8111F-VB   | RTL8111F-VB  \n",
      "RTL8111E-VB   | RTL8111E-VB  \n",
      "RTL8111H-CG   | AR8161-BL3A-R\n",
      "AR8161-BL3A-R | RTL8111H-CG  \n",
      "AR8131L-AL1E  | RTL8112L     \n",
      "RTL8112L      | AR8131L-AL1E \n",
      "RTL8111GR-CG  | RTL8111GR-CG \n",
      "RTL8111G-CG   | RTL8111G-CG  \n",
      "WGI218V       | WGI218V      \n",
      "\n",
      "\n",
      "['AR8131L-AL1E' 'AR8151' 'AR8161-AL3A-R' 'AR8161-BL3A-R']\n",
      "Kendall: 0.3333, nDCG: 0.9917\n",
      "Real          | Prdt         \n",
      "AR8151        | AR8151       \n",
      "AR8161-BL3A-R | AR8161-AL3A-R\n",
      "AR8131L-AL1E  | AR8161-BL3A-R\n",
      "AR8161-AL3A-R | AR8131L-AL1E \n",
      "\n",
      "\n",
      "['RTL8112' 'RTL8112L' 'RTL8131' 'RTL8111DP-VC' 'RTL8111E-VB'\n",
      " 'RTL8111EP-CG']\n",
      "Kendall: 0.0000, nDCG: 1.0000\n",
      "Real          | Prdt         \n",
      "RTL8111E-VB   | RTL8111E-VB  \n",
      "RTL8112L      | RTL8112L     \n",
      "\n",
      "\n",
      "['WG82567V' 'WG82578DM' 'WG82579V' 'WG82579LM' 'WG82583V']\n",
      "Kendall: 0.3333, nDCG: 0.9310\n",
      "Real          | Prdt         \n",
      "WG82583V      | WG82579LM    \n",
      "WG82579LM     | WG82579V     \n",
      "WG82579V      | WG82583V     \n",
      "WG82567V      | WG82567V     \n",
      "\n",
      "\n",
      "['WGI211AT(A2)' 'WGI217LM' 'WGI217V' 'WGI218V' 'WGI218LM']\n",
      "Kendall: 0.8333, nDCG: 0.8827\n",
      "Real          | Prdt         \n",
      "WGI217V       | WGI211AT(A2) \n",
      "WGI218V       | WGI217LM     \n",
      "WGI211AT(A2)  | WGI218V      \n",
      "WGI217LM      | WGI217V      \n",
      "\n",
      "\n"
     ]
    }
   ],
   "source": [
    "\n",
    "print(\"ftr_set: {0}, VERSION: {1}\".format(ftr_set, VERSION))\n",
    "print(\"model: {0}\\n\".format(MODEL_PATH))\n",
    "for set_num in range(0, len(ALL_SETS)):\n",
    "\n",
    "    names = LAN_NAME_ARR[ALL_SETS[set_num]]\n",
    "    print(names)\n",
    "    \n",
    "    prdt_dct = dict(); real_dct = dict()\n",
    "    for name in names:\n",
    "        prdt_dct[name] = PRDT_DCT[name]; real_dct[name] = REAL_DCT[name]    \n",
    "    \n",
    "    A = sort_by_value(real_dct)\n",
    "    ans_lst = [A[i][1] for i in range(len(A)) if A[i][0] not in excluded]\n",
    "    ans_lsn = [A[i][0] for i in range(len(A)) if A[i][0] not in excluded]\n",
    "    \n",
    "    real_dct_sub = {}\n",
    "    for n in ans_lsn:\n",
    "        real_dct_sub[n] = real_dct[n]\n",
    "    \n",
    "    \n",
    "    P = sort_by_value(prdt_dct)\n",
    "    prd_lst = [REAL_DCT[P[i][0]] for i in range(len(P)) if P[i][0] not in excluded]\n",
    "    prd_lsn = [P[i][0] for i in range(len(P)) if P[i][0] not in excluded]\n",
    "    \n",
    "    prdt_dct_sub = {}\n",
    "    for n in prd_lsn:\n",
    "        prdt_dct_sub[n] = prdt_dct[n]\n",
    "    \n",
    "    kt = utils.kend_cust(real_dct_sub, prdt_dct_sub, tolerance=0.01)\n",
    "    \n",
    "    print(\"Kendall: {0:0.4f}, nDCG: {1:0.4f}\".\n",
    "          format(kt, utils.ndcg_at_k(prd_lst, len(prd_lst)+1)))\n",
    "    \n",
    "    print(\"{0:13s} | {1:13s}\".format(\"Real\", \"Prdt\"))\n",
    "    for i in range(len(ans_lsn)):\n",
    "        print(\"{0:13s} | {1:13s}\".format(ans_lsn[i], prd_lsn[i]))\n",
    "    print(\"\\n\")\n",
    "    "
   ]
  },
  {
   "cell_type": "code",
   "execution_count": 120,
   "metadata": {},
   "outputs": [],
   "source": [
    "def eva_by_group(A, P, excld, highlight = [], tolerance = 0.01):\n",
    "    print(\"spcpath: {0}\".format(spcpath))\n",
    "    print(\"ftr_set: {0}, VERSION: {1}\".format(ftr_set, VERSION))\n",
    "    print(\"model: {0}\".format(MODEL_PATH))\n",
    "    print(\"kt toler. = {0}\\n\".format(tolerance))\n",
    "    \n",
    "    \n",
    "    ORG = sorted(set(spc_csv.loc[spc_csv['LAN'].isin(LN5_SET)].index.tolist()))\n",
    "    EXC = excld#+list(LAN_NAME_ARR[ORG]) # TARGET or ORG\n",
    "    \n",
    "    ans_lst = [A[i][1] for i in range(len(A)) if A[i][0] not in EXC]\n",
    "    ans_lsn = [A[i][0] for i in range(len(A)) if A[i][0] not in EXC]\n",
    "    prd_lst = [REAL_DCT[P[i][0]] for i in range(len(P)) if P[i][0] not in EXC]\n",
    "    prd_lsn = [P[i][0] for i in range(len(P)) if P[i][0] not in EXC]\n",
    "    \n",
    "    dct1=dict(); dct2=dict()\n",
    "    for name in PRDT_DCT:\n",
    "        if name not in EXC:\n",
    "            dct1[name] = PRDT_DCT[name]; dct2[name] = REAL_DCT[name]\n",
    "    \n",
    "    kt = utils.kend_cust(dct1, dct2, tolerance)\n",
    "    ng = utils.ndcg_at_k(prd_lst, len(prd_lst)+1)\n",
    "   \n",
    "    print(\"Group: {0}\\nKendall: {1:0.4f}, nDCG: {2:0.4f}\\n\".format(len(ans_lsn), kt, ng))\n",
    "    \n",
    "    print(\"|{0:3s} |{1:15s} | {2:15s}|\".format(\"Ord\", \"Real\", \"Prdt\"))\n",
    "    print(\"|{0:3s} |{1:15s} | {2:15s}|\".format(\"-\", \"-\", \"-\"))\n",
    "    for i in range(len(ans_lsn)):\n",
    "        an = ans_lsn[i]; pn = prd_lsn[i];\n",
    "        if an in highlight:\n",
    "            an = \"*\"+an+\"*\"\n",
    "        if pn in highlight:\n",
    "            pn = \"*\"+pn+\"*\"\n",
    "        print(\"|{0:3s} |{1:15s} | {2:15s}|\".format(str(i), an, pn))\n",
    "    print(\"\\n\")\n",
    "    return\n",
    "    "
   ]
  },
  {
   "cell_type": "code",
   "execution_count": 121,
   "metadata": {},
   "outputs": [],
   "source": [
    "A = sort_by_value(REAL_DCT); P = sort_by_value(PRDT_DCT)"
   ]
  },
  {
   "cell_type": "code",
   "execution_count": 122,
   "metadata": {},
   "outputs": [
    {
     "name": "stdout",
     "output_type": "stream",
     "text": [
      "['RTL8112L', 'AR8131L-AL1E', 'RTL8111E-VB', 'RTL8111E-VL', 'RTL8111F-VB', 'AR8161-BL3A-R', 'RTL8111G-CG', 'RTL8111GR-CG', 'WGI218V', 'RTL8111H-CG']\n"
     ]
    }
   ],
   "source": [
    "print(TAR_NAMES)"
   ]
  },
  {
   "cell_type": "code",
   "execution_count": 123,
   "metadata": {},
   "outputs": [
    {
     "name": "stdout",
     "output_type": "stream",
     "text": [
      "spcpath: ./data/lan_spc_1.csv\n",
      "ftr_set: [0, 4, 5, 6, 7, 8, 9, 10, 11, 12], VERSION: 2\n",
      "model: ./ongo/CFR_MODEL_LSTM[LrDsDsDsDsDr_f11hn512bs3dp0.001]_Model_R0_aefghijklm_v2_LTB_spc1.h5\n",
      "kt toler. = 0.01\n",
      "\n",
      "Group: 10\n",
      "Kendall: 0.0444, nDCG: 0.9991\n",
      "\n",
      "|Ord |Real            | Prdt           |\n",
      "|-   |-               | -              |\n",
      "|0   |RTL8111E-VL     | RTL8111E-VL    |\n",
      "|1   |RTL8111F-VB     | RTL8111F-VB    |\n",
      "|2   |RTL8111E-VB     | RTL8111E-VB    |\n",
      "|3   |RTL8111H-CG     | AR8161-BL3A-R  |\n",
      "|4   |AR8161-BL3A-R   | RTL8111H-CG    |\n",
      "|5   |AR8131L-AL1E    | RTL8112L       |\n",
      "|6   |RTL8112L        | AR8131L-AL1E   |\n",
      "|7   |RTL8111GR-CG    | RTL8111GR-CG   |\n",
      "|8   |RTL8111G-CG     | RTL8111G-CG    |\n",
      "|9   |WGI218V         | WGI218V        |\n",
      "\n",
      "\n"
     ]
    }
   ],
   "source": [
    "not_in_tra = [v for v in LAN_NAME_LST if v not in TAR_NAMES]\n",
    "eva_by_group(A, P, not_in_tra)"
   ]
  },
  {
   "cell_type": "code",
   "execution_count": 124,
   "metadata": {},
   "outputs": [
    {
     "name": "stdout",
     "output_type": "stream",
     "text": [
      "spcpath: ./data/lan_spc_1.csv\n",
      "ftr_set: [0, 4, 5, 6, 7, 8, 9, 10, 11, 12], VERSION: 2\n",
      "model: ./ongo/CFR_MODEL_LSTM[LrDsDsDsDsDr_f11hn512bs3dp0.001]_Model_R0_aefghijklm_v2_LTB_spc1.h5\n",
      "kt toler. = 0.01\n",
      "\n",
      "Group: 27\n",
      "Kendall: 0.3134, nDCG: 0.5196\n",
      "\n",
      "|Ord |Real            | Prdt           |\n",
      "|-   |-               | -              |\n",
      "|0   |*AR8151*        | RTL8111E-VL    |\n",
      "|1   |RTL8111E-VL     | RTL8111F-VB    |\n",
      "|2   |RTL8111F-VB     | RTL8111E-VB    |\n",
      "|3   |RTL8111E-VB     | WG82579LM      |\n",
      "|4   |WG82583V        | WG82579V       |\n",
      "|5   |RTL8111H-CG     | RTL8111DP-VC   |\n",
      "|6   |AR8161-BL3A-R   | WG82583V       |\n",
      "|7   |WG82579LM       | WGI211AT(A2)   |\n",
      "|8   |AR8131L-AL1E    | WGI217LM       |\n",
      "|9   |WG82579V        | *AR8151*       |\n",
      "|10  |RTL8112L        | AR8161-AL3A-R  |\n",
      "|11  |RTL8111GR-CG    | AR8161-BL3A-R  |\n",
      "|12  |RTL8111G-CG     | WG82567V       |\n",
      "|13  |AR8161-AL3A-R   | WG82578DM      |\n",
      "|14  |WGI217V         | RTL8111H-CG    |\n",
      "|15  |WGI218V         | RTL8103EL      |\n",
      "|16  |WGI211AT(A2)    | *82567LF*      |\n",
      "|17  |WGI217LM        | RTL8131        |\n",
      "|18  |WG82567V        | RTL8112L       |\n",
      "|19  |WG82578DM       | RTL8112        |\n",
      "|20  |RTL8131         | AR8131L-AL1E   |\n",
      "|21  |WGI218LM        | RTL8111GR-CG   |\n",
      "|22  |RTL8112         | RTL8111G-CG    |\n",
      "|23  |RTL8111EP-CG    | WGI218V        |\n",
      "|24  |RTL8111DP-VC    | WGI217V        |\n",
      "|25  |RTL8103EL       | WGI218LM       |\n",
      "|26  |*82567LF*       | RTL8111EP-CG   |\n",
      "\n",
      "\n"
     ]
    }
   ],
   "source": [
    "# for excld in excluded_sets[:1]:\n",
    "eva_by_group(A, P, excluded_sets[0], excluded_sets[1])"
   ]
  },
  {
   "cell_type": "code",
   "execution_count": 125,
   "metadata": {},
   "outputs": [
    {
     "name": "stdout",
     "output_type": "stream",
     "text": [
      "spcpath: ./data/lan_spc_1.csv\n",
      "ftr_set: [0, 4, 5, 6, 7, 8, 9, 10, 11, 12], VERSION: 2\n",
      "model: ./ongo/CFR_MODEL_LSTM[LrDsDsDsDsDr_f11hn512bs3dp0.001]_Model_R0_aefghijklm_v2_LTB_spc1.h5\n",
      "kt toler. = 0.01\n",
      "\n",
      "Group: 25\n",
      "Kendall: 0.3000, nDCG: 0.9592\n",
      "\n",
      "|Ord |Real            | Prdt           |\n",
      "|-   |-               | -              |\n",
      "|0   |RTL8111E-VL     | RTL8111E-VL    |\n",
      "|1   |RTL8111F-VB     | RTL8111F-VB    |\n",
      "|2   |RTL8111E-VB     | RTL8111E-VB    |\n",
      "|3   |WG82583V        | WG82579LM      |\n",
      "|4   |RTL8111H-CG     | WG82579V       |\n",
      "|5   |AR8161-BL3A-R   | *RTL8111DP-VC* |\n",
      "|6   |WG82579LM       | WG82583V       |\n",
      "|7   |AR8131L-AL1E    | WGI211AT(A2)   |\n",
      "|8   |WG82579V        | WGI217LM       |\n",
      "|9   |RTL8112L        | AR8161-AL3A-R  |\n",
      "|10  |RTL8111GR-CG    | AR8161-BL3A-R  |\n",
      "|11  |RTL8111G-CG     | WG82567V       |\n",
      "|12  |AR8161-AL3A-R   | *WG82578DM*    |\n",
      "|13  |WGI217V         | RTL8111H-CG    |\n",
      "|14  |WGI218V         | *RTL8103EL*    |\n",
      "|15  |WGI211AT(A2)    | *RTL8131*      |\n",
      "|16  |WGI217LM        | RTL8112L       |\n",
      "|17  |WG82567V        | *RTL8112*      |\n",
      "|18  |*WG82578DM*     | AR8131L-AL1E   |\n",
      "|19  |*RTL8131*       | RTL8111GR-CG   |\n",
      "|20  |*WGI218LM*      | RTL8111G-CG    |\n",
      "|21  |*RTL8112*       | WGI218V        |\n",
      "|22  |*RTL8111EP-CG*  | WGI217V        |\n",
      "|23  |*RTL8111DP-VC*  | *WGI218LM*     |\n",
      "|24  |*RTL8103EL*     | *RTL8111EP-CG* |\n",
      "\n",
      "\n"
     ]
    }
   ],
   "source": [
    "eva_by_group(A, P, excluded_sets[1], excluded_sets[2])"
   ]
  },
  {
   "cell_type": "code",
   "execution_count": 126,
   "metadata": {},
   "outputs": [
    {
     "name": "stdout",
     "output_type": "stream",
     "text": [
      "spcpath: ./data/lan_spc_1.csv\n",
      "ftr_set: [0, 4, 5, 6, 7, 8, 9, 10, 11, 12], VERSION: 2\n",
      "model: ./ongo/CFR_MODEL_LSTM[LrDsDsDsDsDr_f11hn512bs3dp0.001]_Model_R0_aefghijklm_v2_LTB_spc1.h5\n",
      "kt toler. = 0.01\n",
      "\n",
      "Group: 18\n",
      "Kendall: 0.2680, nDCG: 0.9772\n",
      "\n",
      "|Ord |Real            | Prdt           |\n",
      "|-   |-               | -              |\n",
      "|0   |RTL8111E-VL     | RTL8111E-VL    |\n",
      "|1   |RTL8111F-VB     | RTL8111F-VB    |\n",
      "|2   |RTL8111E-VB     | RTL8111E-VB    |\n",
      "|3   |*WG82583V*      | *WG82579LM*    |\n",
      "|4   |RTL8111H-CG     | WG82579V       |\n",
      "|5   |AR8161-BL3A-R   | *WG82583V*     |\n",
      "|6   |*WG82579LM*     | *WGI211AT(A2)* |\n",
      "|7   |AR8131L-AL1E    | *WGI217LM*     |\n",
      "|8   |WG82579V        | AR8161-AL3A-R  |\n",
      "|9   |RTL8112L        | AR8161-BL3A-R  |\n",
      "|10  |RTL8111GR-CG    | *WG82567V*     |\n",
      "|11  |RTL8111G-CG     | RTL8111H-CG    |\n",
      "|12  |AR8161-AL3A-R   | RTL8112L       |\n",
      "|13  |WGI217V         | AR8131L-AL1E   |\n",
      "|14  |WGI218V         | RTL8111GR-CG   |\n",
      "|15  |*WGI211AT(A2)*  | RTL8111G-CG    |\n",
      "|16  |*WGI217LM*      | WGI218V        |\n",
      "|17  |*WG82567V*      | WGI217V        |\n",
      "\n",
      "\n"
     ]
    }
   ],
   "source": [
    "eva_by_group(A, P, excluded_sets[2], excluded_sets[3])"
   ]
  },
  {
   "cell_type": "code",
   "execution_count": 127,
   "metadata": {},
   "outputs": [
    {
     "name": "stdout",
     "output_type": "stream",
     "text": [
      "spcpath: ./data/lan_spc_1.csv\n",
      "ftr_set: [0, 4, 5, 6, 7, 8, 9, 10, 11, 12], VERSION: 2\n",
      "model: ./ongo/CFR_MODEL_LSTM[LrDsDsDsDsDr_f11hn512bs3dp0.001]_Model_R0_aefghijklm_v2_LTB_spc1.h5\n",
      "kt toler. = 0.01\n",
      "\n",
      "Group: 13\n",
      "Kendall: 0.1538, nDCG: 0.9907\n",
      "\n",
      "|Ord |Real            | Prdt           |\n",
      "|-   |-               | -              |\n",
      "|0   |RTL8111E-VL     | RTL8111E-VL    |\n",
      "|1   |RTL8111F-VB     | RTL8111F-VB    |\n",
      "|2   |RTL8111E-VB     | RTL8111E-VB    |\n",
      "|3   |RTL8111H-CG     | *WG82579V*     |\n",
      "|4   |AR8161-BL3A-R   | *AR8161-AL3A-R*|\n",
      "|5   |AR8131L-AL1E    | AR8161-BL3A-R  |\n",
      "|6   |*WG82579V*      | RTL8111H-CG    |\n",
      "|7   |RTL8112L        | RTL8112L       |\n",
      "|8   |RTL8111GR-CG    | AR8131L-AL1E   |\n",
      "|9   |RTL8111G-CG     | RTL8111GR-CG   |\n",
      "|10  |*AR8161-AL3A-R* | RTL8111G-CG    |\n",
      "|11  |*WGI217V*       | WGI218V        |\n",
      "|12  |WGI218V         | *WGI217V*      |\n",
      "\n",
      "\n"
     ]
    }
   ],
   "source": [
    "eva_by_group(A, P, excluded_sets[3], excluded_sets[4])"
   ]
  },
  {
   "cell_type": "code",
   "execution_count": 128,
   "metadata": {},
   "outputs": [
    {
     "name": "stdout",
     "output_type": "stream",
     "text": [
      "spcpath: ./data/lan_spc_1.csv\n",
      "ftr_set: [0, 4, 5, 6, 7, 8, 9, 10, 11, 12], VERSION: 2\n",
      "model: ./ongo/CFR_MODEL_LSTM[LrDsDsDsDsDr_f11hn512bs3dp0.001]_Model_R0_aefghijklm_v2_LTB_spc1.h5\n",
      "kt toler. = 0.01\n",
      "\n",
      "Group: 10\n",
      "Kendall: 0.0444, nDCG: 0.9991\n",
      "\n",
      "|Ord |Real            | Prdt           |\n",
      "|-   |-               | -              |\n",
      "|0   |RTL8111E-VL     | RTL8111E-VL    |\n",
      "|1   |RTL8111F-VB     | RTL8111F-VB    |\n",
      "|2   |RTL8111E-VB     | RTL8111E-VB    |\n",
      "|3   |RTL8111H-CG     | AR8161-BL3A-R  |\n",
      "|4   |AR8161-BL3A-R   | RTL8111H-CG    |\n",
      "|5   |AR8131L-AL1E    | RTL8112L       |\n",
      "|6   |RTL8112L        | AR8131L-AL1E   |\n",
      "|7   |RTL8111GR-CG    | RTL8111GR-CG   |\n",
      "|8   |RTL8111G-CG     | RTL8111G-CG    |\n",
      "|9   |WGI218V         | WGI218V        |\n",
      "\n",
      "\n"
     ]
    }
   ],
   "source": [
    "eva_by_group(A, P, excluded_sets[4])"
   ]
  },
  {
   "cell_type": "code",
   "execution_count": null,
   "metadata": {},
   "outputs": [],
   "source": []
  },
  {
   "cell_type": "code",
   "execution_count": null,
   "metadata": {},
   "outputs": [],
   "source": []
  },
  {
   "cell_type": "code",
   "execution_count": null,
   "metadata": {},
   "outputs": [],
   "source": []
  },
  {
   "cell_type": "code",
   "execution_count": null,
   "metadata": {},
   "outputs": [],
   "source": []
  },
  {
   "cell_type": "code",
   "execution_count": null,
   "metadata": {},
   "outputs": [],
   "source": []
  },
  {
   "cell_type": "code",
   "execution_count": null,
   "metadata": {},
   "outputs": [],
   "source": []
  },
  {
   "cell_type": "code",
   "execution_count": null,
   "metadata": {},
   "outputs": [],
   "source": []
  },
  {
   "cell_type": "code",
   "execution_count": null,
   "metadata": {},
   "outputs": [],
   "source": []
  },
  {
   "cell_type": "code",
   "execution_count": null,
   "metadata": {},
   "outputs": [],
   "source": []
  }
 ],
 "metadata": {
  "kernelspec": {
   "display_name": "Python 3",
   "language": "python",
   "name": "python3"
  },
  "language_info": {
   "codemirror_mode": {
    "name": "ipython",
    "version": 3
   },
   "file_extension": ".py",
   "mimetype": "text/x-python",
   "name": "python",
   "nbconvert_exporter": "python",
   "pygments_lexer": "ipython3",
   "version": "3.5.2"
  }
 },
 "nbformat": 4,
 "nbformat_minor": 2
}
