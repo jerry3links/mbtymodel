{
 "cells": [
  {
   "cell_type": "code",
   "execution_count": 15,
   "metadata": {},
   "outputs": [],
   "source": [
    "import pandas as pd\n",
    "import numpy as np\n",
    "import utils"
   ]
  },
  {
   "cell_type": "markdown",
   "metadata": {},
   "source": [
    "# Data Preparation"
   ]
  },
  {
   "cell_type": "code",
   "execution_count": 16,
   "metadata": {},
   "outputs": [
    {
     "name": "stdout",
     "output_type": "stream",
     "text": [
      "Check all 210 files ...\n",
      "Got 27 cfr files\n",
      "['RTL8112' 'RTL8112L' 'RTL8131' '82567LF' 'RTL8103EL' 'AR8131L-AL1E'\n",
      " 'WG82578DM' 'RTL8111E-VB' 'WG82567V' 'WG82583V' 'WG82579V' 'AR8151'\n",
      " 'RTL8111E-VL' 'WG82579LM' 'RTL8111F-VB' 'AR8161-AL3A-R' 'AR8161-BL3A-R'\n",
      " 'RTL8111DP-VC' 'WGI217V' 'RTL8111G-CG' 'RTL8111GR-CG' 'WGI217LM'\n",
      " 'WGI218V' 'WGI211AT(A2)' 'WGI218LM' 'RTL8111EP-CG' 'RTL8111H-CG']\n"
     ]
    }
   ],
   "source": [
    "datapath = './data/'\n",
    "LAN_CSV_DCT, spc_csv = utils.read_csv(datapath)\n",
    "LAN_NAME_ARR = np.array(spc_csv['LAN'])[:-2] # exclude MIN & MAX\n",
    "LAN_NAME_LST = list(LAN_NAME_ARR)\n"
   ]
  },
  {
   "cell_type": "code",
   "execution_count": 17,
   "metadata": {},
   "outputs": [
    {
     "name": "stdout",
     "output_type": "stream",
     "text": [
      "S_ALL_NORM.shape: (29, 13)\n",
      "|             |Tmst |Year |Mont |New  |IC2L |Nm2G |Nm2L |AD2G |AD2L |Gd2G |Gd2L |PwPn |ESD  |\n",
      "|LAN          |a_Ts |b_Yr |c_Mt |d_N  |e_IL |f_NG |g_NL |h_AG |i_AL |j_GG |k_GL |l_Pn |m_ED |\n",
      "|-            |-    |-    |-    |-    |-    |-    |-    |-    |-    |-    |-    |-    |-    |\n",
      "|RTL8112      | 1230739200.00| 2009.00| 1.00| 0.00| 1.00| 4.00| 1.00| 6.00| 1.00| 15.00| 6.00| 6.00| 8.00|\n",
      "|RTL8112L     | 1235836800.00| 2009.00| 3.00| 0.00| 1.00| 4.00| 1.00| 6.00| 1.00| 15.00| 6.00| 6.00| 8.00|\n",
      "|RTL8131      | 1235836800.00| 2009.00| 3.00| 0.00| 1.00| 4.00| 1.00| 6.00| 1.00| 15.00| 6.00| 6.00| 8.00|\n",
      "|82567LF      | 1246377600.00| 2009.00| 7.00| 0.00| 1.00| 4.00| 1.00| 6.00| 1.00| 15.00| 6.00| 6.00| 8.00|\n",
      "|RTL8103EL    | 1249056000.00| 2009.00| 8.00| 0.00| 1.00| 4.00| 1.00| 6.00| 1.00| 15.00| 6.00| 6.00| 8.00|\n",
      "|AR8131L-AL1E | 1254326400.00| 2009.00| 10.00| 0.00| 1.00| 4.00| 1.00| 6.00| 1.00| 15.00| 6.00| 5.00| 8.00|\n",
      "|WG82578DM    | 1262275200.00| 2010.00| 1.00| 0.00| 1.00| 4.00| 1.00| 6.00| 1.00| 15.00| 6.00| 6.00| 8.00|\n",
      "|RTL8111E-VB  | 1264953600.00| 2010.00| 2.00| 0.00| 0.40| 4.00| 1.00| 6.00| 1.00| 15.00| 6.00| 7.50| 8.00|\n",
      "|WG82567V     | 1270051200.00| 2010.00| 4.00| 0.00| 1.00| 4.00| 1.00| 6.00| 1.00| 15.00| 6.00| 6.00| 8.00|\n",
      "|WG82583V     | 1283270400.00| 2010.00| 9.00| 0.00| 1.00| 4.00| 1.00| 6.00| 1.00| 15.00| 6.00| 6.00| 8.00|\n",
      "|WG82579V     | 1285862400.00| 2010.00| 10.00| 0.00| 1.00| 4.00| 1.00| 6.00| 1.00| 15.00| 6.00| 6.00| 8.00|\n",
      "|AR8151       | 1288540800.00| 2010.00| 11.00| 0.00| 1.00| 2.00| 1.00| 6.00| 1.00| 15.00| 6.00| 5.00| 8.00|\n",
      "|RTL8111E-VL  | 1293811200.00| 2011.00| 1.00| 0.00| 1.00| 4.00| 1.00| 6.00| 1.00| 15.00| 6.00| 7.50| 8.00|\n",
      "|WG82579LM    | 1296489600.00| 2011.00| 2.00| 0.00| 1.00| 4.00| 1.00| 6.00| 1.00| 15.00| 6.00| 6.00| 8.00|\n",
      "|RTL8111F-VB  | 1325347200.00| 2012.00| 1.00| 0.00| 1.00| 4.00| 1.00| 6.00| 1.00| 15.00| 6.00| 6.00| 8.00|\n",
      "|AR8161-AL3A-R| 1328025600.00| 2012.00| 2.00| 0.00| 1.00| 2.00| 1.00| 6.00| 1.00| 15.00| 6.00| 5.00| 8.00|\n",
      "|AR8161-BL3A-R| 1335801600.00| 2012.00| 5.00| 0.00| 1.00| 2.00| 1.00| 6.00| 1.00| 15.00| 6.00| 5.00| 8.00|\n",
      "|RTL8111DP-VC | 1362067200.00| 2013.00| 3.00| 0.00| 1.00| 4.00| 1.00| 6.00| 1.00| 15.00| 6.00| 6.00| 8.00|\n",
      "|WGI217V      | 1362067200.00| 2013.00| 3.00| 0.00| 1.00| 4.00| 1.00| 6.00| 2.00| 15.00| 6.00| 6.00| 8.00|\n",
      "|RTL8111G-CG  | 1364745600.00| 2013.00| 4.00| 0.00| 2.00| 4.00| 2.00| 6.00| 2.00| 15.00| 6.00| 6.00| 8.00|\n",
      "|RTL8111GR-CG | 1364745600.00| 2013.00| 4.00| 0.00| 2.00| 4.00| 2.00| 6.00| 2.00| 15.00| 6.00| 6.00| 8.00|\n",
      "|WGI217LM     | 1367337600.00| 2013.00| 5.00| 0.00| 1.00| 4.00| 1.00| 6.00| 1.00| 15.00| 6.00| 6.00| 8.00|\n",
      "|WGI218V      | 1391184000.00| 2014.00| 2.00| 0.00| 1.00| 4.00| 1.00| 6.00| 1.00| 15.00| 6.00| 6.00| 8.00|\n",
      "|WGI211AT(A2) | 1396281600.00| 2014.00| 4.00| 1.00| 1.00| 4.00| 1.00| 6.00| 2.00| 15.00| 6.00| 7.50| 8.00|\n",
      "|WGI218LM     | 1398873600.00| 2014.00| 5.00| 0.00| 1.00| 4.00| 1.00| 6.00| 1.00| 15.00| 6.00| 6.00| 8.00|\n",
      "|RTL8111EP-CG | 1404144000.00| 2014.00| 7.00| 0.00| 1.00| 4.00| 1.00| 6.00| 1.00| 15.00| 6.00| 6.00| 8.00|\n",
      "|RTL8111H-CG  | 1427817600.00| 2015.00| 4.00| 1.00| 2.00| 4.00| 2.00| 6.00| 2.00| 15.00| 6.00| 7.50| 8.00|\n",
      "|             | 1104508800.00| 2005.00| 1.00| 0.00| 0.00| 0.00| 0.00| 0.00| 0.00| 0.00| 0.00| 0.00| 0.00|\n",
      "|             | 1606752000.00| 2020.00| 12.00| 5.00| 20.00| 20.00| 20.00| 20.00| 20.00| 20.00| 20.00| 20.00| 20.00|\n"
     ]
    }
   ],
   "source": [
    "# NORMALIZE ALL VALUES\n",
    "\n",
    "raw_spc = np.array(spc_csv.iloc[:,1:]) # exclude name\n",
    "S_ALL = utils.create_S(raw_spc)\n",
    "s_scaler, S_ALL_NORM = utils.scale(S_ALL)\n",
    "print (\"S_ALL_NORM.shape: {0}\".format(S_ALL_NORM.shape))\n",
    "\n",
    "ftr_dct = utils.show_spc(S_ALL, LAN_NAME_ARR, printout = True)"
   ]
  },
  {
   "cell_type": "code",
   "execution_count": 18,
   "metadata": {},
   "outputs": [],
   "source": [
    "import _Library._Utils_FileHandler as fh\n",
    "import _Library._Init_Head\n",
    "# %run ./_Library/_Init_Head"
   ]
  },
  {
   "cell_type": "code",
   "execution_count": 19,
   "metadata": {},
   "outputs": [],
   "source": [
    "import sys\n",
    "import math\n",
    "import h5py\n",
    "import scipy\n",
    "from scipy import ndimage\n",
    "from sklearn.metrics import mean_squared_error\n",
    "import matplotlib.pyplot as plt\n",
    "%matplotlib inline\n",
    "\n",
    "from tensorflow.python.framework import ops\n",
    "\n",
    "\n",
    "import keras\n",
    "from keras import backend as K\n",
    "from keras.models import load_model, Model, Sequential\n",
    "from keras.layers import Bidirectional, Concatenate, Permute, Dot, Input, LSTM, GRU,\\\n",
    "                         Multiply, Flatten, Embedding, SimpleRNN, RepeatVector, Dense,\\\n",
    "                         Activation, Lambda, Reshape, Dropout\n",
    "from keras import callbacks as Kcallback\n",
    "from keras.callbacks import EarlyStopping\n",
    "from keras.optimizers import Adam\n",
    "from keras.utils import to_categorical\n",
    "from keras.layers import Activation\n",
    "from keras import __version__ as keras__version__\n",
    "\n",
    "def swish(x):\n",
    "    return x * K.sigmoid(x)\n",
    "\n",
    "def binary(x):\n",
    "    return keras.backend.switch(x < 0, x*0, x/x)\n",
    "\n",
    "def bround(x):\n",
    "    return keras.backend.switch(x < 0, x*0, keras.backend.round(x))\n",
    "\n",
    "K.linear = 'linear'\n"
   ]
  },
  {
   "cell_type": "markdown",
   "metadata": {},
   "source": [
    "# Prepare (X, Y), Setup Feature Space, Para., and Load Model"
   ]
  },
  {
   "cell_type": "code",
   "execution_count": 20,
   "metadata": {},
   "outputs": [],
   "source": [
    "LN5_SET = ['RTL8111E-VL', 'RTL8111F-VB', 'RTL8111G-CG', 'RTL8111GR-CG', 'RTL8111H-CG']\n",
    "L10_SET = ['RTL8111E-VL', 'RTL8111F-VB', 'RTL8111G-CG', 'RTL8111GR-CG', 'RTL8111H-CG',\n",
    "           'AR8131L-AL1E', 'WG82579V', 'AR8161-AL3A-R', 'WGI217V', 'WGI218V']\n",
    "LN8_SET = ['RTL8111E-VL', 'RTL8111F-VB', 'RTL8111G-CG', 'RTL8111GR-CG', 'RTL8111H-CG',\n",
    "           'AR8131L-AL1E', 'WG82579V', 'WGI218V']\n",
    "\n",
    "\n",
    "LTB_SET = ['RTL8112L', 'AR8131L-AL1E', 'RTL8111E-VB', 'RTL8111E-VL', 'RTL8111F-VB',\n",
    "           'AR8161-BL3A-R', 'RTL8111G-CG', 'RTL8111GR-CG', 'WGI218V', 'RTL8111H-CG']\n",
    "\n",
    "L27_SET = ['RTL8112', 'RTL8112L', 'RTL8131', '82567LF', 'RTL8103EL', 'AR8131L-AL1E',\n",
    "           'WG82578DM', 'RTL8111E-VB', 'WG82567V', 'WG82583V', 'WG82579V', 'AR8151',\n",
    "           'RTL8111E-VL', 'WG82579LM', 'RTL8111F-VB', 'AR8161-AL3A-R', 'AR8161-BL3A-R',\n",
    "           'RTL8111DP-VC', 'WGI217V', 'RTL8111G-CG', 'RTL8111GR-CG', 'WGI217LM',\n",
    "           'WGI218V', 'WGI211AT(A2)', 'WGI218LM', 'RTL8111EP-CG', 'RTL8111H-CG']\n",
    "\n",
    "L18_SET = ['RTL8112L', 'AR8131L-AL1E', 'RTL8111E-VB', 'WG82567V', 'WG82583V',\n",
    "           'WG82579V', 'RTL8111E-VL', 'WG82579LM', 'RTL8111F-VB', 'AR8161-AL3A-R',\n",
    "           'AR8161-BL3A-R', 'WGI217V', 'RTL8111G-CG', 'RTL8111GR-CG', 'WGI217LM',\n",
    "           'WGI218V', 'WGI211AT(A2)', 'RTL8111H-CG']\n",
    "L13_SET = ['RTL8112L', 'AR8131L-AL1E', 'RTL8111E-VB', 'WG82579V', 'RTL8111E-VL',\n",
    "           'RTL8111F-VB', 'AR8161-AL3A-R', 'AR8161-BL3A-R', 'WGI217V', 'RTL8111G-CG',\n",
    "           'RTL8111GR-CG', 'WGI218V', 'RTL8111H-CG']\n",
    "L12_SET = ['RTL8112L', 'AR8131L-AL1E', 'RTL8111E-VB', 'WG82579V', 'RTL8111E-VL',\n",
    "           'RTL8111F-VB', 'AR8161-AL3A-R', 'AR8161-BL3A-R', 'WGI217V', 'RTL8111G-CG',\n",
    "           'RTL8111GR-CG', 'WGI218V']\n",
    "L25_SET = ['RTL8112', 'RTL8112L', 'RTL8131', 'RTL8103EL', 'AR8131L-AL1E',\n",
    "           'WG82578DM', 'RTL8111E-VB', 'WG82567V', 'WG82583V', 'WG82579V',\n",
    "           'RTL8111E-VL', 'WG82579LM', 'RTL8111F-VB', 'AR8161-AL3A-R', 'AR8161-BL3A-R',\n",
    "           'RTL8111DP-VC', 'WGI217V', 'RTL8111G-CG', 'RTL8111GR-CG', 'WGI217LM',\n",
    "           'WGI218V', 'WGI211AT(A2)', 'WGI218LM', 'RTL8111EP-CG', 'RTL8111H-CG']"
   ]
  },
  {
   "cell_type": "code",
   "execution_count": 21,
   "metadata": {},
   "outputs": [
    {
     "name": "stdout",
     "output_type": "stream",
     "text": [
      "./ongo/20181001000/CFR_MODEL_LSTM[LrDsDsDsDsDr_f11hn512bs3dp0.001]_ModelInf_R0_aefghijklm_v2_LTB_spc1.h5\n",
      "ffx: aefghijklm\n"
     ]
    }
   ],
   "source": [
    "import os\n",
    "import re\n",
    "\n",
    "track_num = '20181001000'\n",
    "MODEL_PATH = None\n",
    "for dirname, dirnames, filenames in os.walk('./ongo/' + track_num + \"/\"):\n",
    "    # go through all entries\n",
    "    for filename in filenames:\n",
    "        if filename.endswith('.h5'):\n",
    "            filepath = os.path.join(dirname, filename)    \n",
    "            MODEL_PATH = filepath\n",
    "        \n",
    "print(MODEL_PATH)\n",
    "\n",
    "ftr_set = [0] + list(range(4, S_ALL_NORM.shape[1])); VERSION = 2; TAR_NAMES = LTB_SET;\n",
    "\n",
    "TARGET = sorted(set(spc_csv.loc[spc_csv['LAN'].isin(TAR_NAMES)].index.tolist()))\n",
    "\n",
    "ffx = \"\"\n",
    "for v in ftr_set:\n",
    "    ffx += chr(v+97)\n",
    "print(\"ffx: %s\" % ffx)"
   ]
  },
  {
   "cell_type": "code",
   "execution_count": null,
   "metadata": {},
   "outputs": [],
   "source": []
  },
  {
   "cell_type": "code",
   "execution_count": 22,
   "metadata": {},
   "outputs": [
    {
     "name": "stdout",
     "output_type": "stream",
     "text": [
      "Target ids: [1, 5, 7, 12, 14, 16, 19, 20, 22, 26]\n",
      "c_norm.shape: (10, 36, 1)\n",
      "s_all_norm: (29, 10)\n",
      "s_all_norm_f: (10, 10)\n"
     ]
    }
   ],
   "source": [
    "\n",
    "c_dft_norm, _, C_SCALER = utils.create_C(LAN_CSV_DCT, LAN_NAME_ARR, TARGET)\n",
    "s_all_norm = S_ALL_NORM[:, ftr_set]\n",
    "print(\"s_all_norm: {0}\".format(s_all_norm.shape))\n",
    "s_all_norm_f = S_ALL_NORM[TARGET][:, ftr_set]\n",
    "print(\"s_all_norm_f: {0}\".format(s_all_norm_f.shape))\n",
    "\n"
   ]
  },
  {
   "cell_type": "code",
   "execution_count": null,
   "metadata": {},
   "outputs": [],
   "source": []
  },
  {
   "cell_type": "code",
   "execution_count": 23,
   "metadata": {},
   "outputs": [
    {
     "name": "stdout",
     "output_type": "stream",
     "text": [
      "Load from ./ongo/20181001000/CFR_MODEL_LSTM[LrDsDsDsDsDr_f11hn512bs3dp0.001]_ModelInf_R0_aefghijklm_v2_LTB_spc1.h5 ...\n",
      "Done\n"
     ]
    },
    {
     "name": "stderr",
     "output_type": "stream",
     "text": [
      "/home/jerry3chang/Workspace/tensorflow_py3/lib/python3.5/site-packages/keras/models.py:282: UserWarning: No training configuration found in save file: the model was *not* compiled. Compile it manually.\n",
      "  warnings.warn('No training configuration found in save file: '\n"
     ]
    }
   ],
   "source": [
    "pred_timesteps = 36\n",
    "\n",
    "_, _, F, Y = utils.get_xy_from_sAc(s_all_norm_f, c_dft_norm, pred_timesteps, list(range(c_dft_norm.shape[0])))\n",
    "X = F[:,:,(3-VERSION):]\n",
    "input_features = X.shape[2]\n",
    "output_features = Y.shape[2]\n",
    "hidden_neurons = 512\n",
    "\n",
    "print(\"Load from {0} ...\".format(MODEL_PATH))\n",
    "model_inf = load_model(MODEL_PATH, custom_objects={'swish': swish, 'binary': binary, 'bround': bround})\n",
    "print(\"Done\")"
   ]
  },
  {
   "cell_type": "code",
   "execution_count": 24,
   "metadata": {},
   "outputs": [],
   "source": [
    "from IPython.display import SVG\n",
    "from keras.utils.vis_utils import model_to_dot\n",
    "\n",
    "# SVG(model_to_dot(inference_model, show_shapes=True).create(prog='dot', format='svg'))\n",
    "\n",
    "from IPython.display import Image\n",
    "# Image(model_to_dot(model_inf, show_shapes=True).create(prog='dot', format='png'))"
   ]
  },
  {
   "cell_type": "markdown",
   "metadata": {},
   "source": [
    "# KNN Search Implementation"
   ]
  },
  {
   "cell_type": "code",
   "execution_count": 25,
   "metadata": {},
   "outputs": [
    {
     "name": "stdout",
     "output_type": "stream",
     "text": [
      "[148  96 110 173   5 178  20  13  42  56]\n"
     ]
    },
    {
     "data": {
      "image/png": "[encoded data removed]",
      "text/plain": [
       "<matplotlib.figure.Figure at 0x7f0c7de24d30>"
      ]
     },
     "metadata": {},
     "output_type": "display_data"
    }
   ],
   "source": [
    "from numpy import random,argsort,sqrt\n",
    "from pylab import plot,show\n",
    "\n",
    "def knn_search(x, D, K):\n",
    "\n",
    "    \"\"\" find K nearest neighbours of data among D \"\"\"\n",
    "    ndata = D.shape[1]\n",
    "    K = K if K < ndata else ndata\n",
    "    # euclidean distances from the other points\n",
    "    sqd = sqrt(((D - x[:,:ndata])**2).sum(axis=0))\n",
    "    \n",
    "    #print(\"len(sqd): {0}\".format(len(sqd)))\n",
    "    #print(\"sqd.shape: {0}\".format(sqd.shape))\n",
    "\n",
    "    idx = argsort(sqd) # sorting\n",
    "    # return the indexes of K nearest neighbours\n",
    "    return idx[:K]\n",
    "\n",
    "\n",
    "# knn_search test\n",
    "data = random.rand(2,200) # random dataset\n",
    "x = random.rand(2,1) # query point\n",
    "\n",
    "A = data - x[:,:data.shape[1]]\n",
    "B = (data - x[:,:data.shape[1]])**2\n",
    "C = B.sum(axis=0)\n",
    "# performing the search\n",
    "neig_idx = knn_search(x,data,10)\n",
    "\n",
    "print(neig_idx)\n",
    "\n",
    "\n",
    "# plotting the data and the input point\n",
    "plot(data[0,:],data[1,:],'ob' ,x[0,0],x[1,0],'or')\n",
    "# highlighting the neighbours\n",
    "plot(data[0,neig_idx],data[1,neig_idx],'o',\n",
    "  markerfacecolor='None',markersize=15,markeredgewidth=1)\n",
    "show()"
   ]
  },
  {
   "cell_type": "code",
   "execution_count": 26,
   "metadata": {},
   "outputs": [
    {
     "name": "stdout",
     "output_type": "stream",
     "text": [
      "Got A!\n"
     ]
    }
   ],
   "source": [
    "A = None\n",
    "A = [1]\n",
    "if A:\n",
    "    print(\"Got A!\")\n",
    "else:\n",
    "    print(\"Noneeeee!\")"
   ]
  },
  {
   "cell_type": "code",
   "execution_count": 55,
   "metadata": {},
   "outputs": [],
   "source": [
    "def gen_data(dim, ndata, distance, seed, debug = False):\n",
    "\n",
    "    data = seed\n",
    "    \n",
    "    print(\"Generating for [dim: {0}, ndata: {1}, dist: {2}] ...\".format(dim, ndata, distance))\n",
    "    \n",
    "    att = 0; total_att = 0; max_att = ndata * dim;\n",
    "    print(\"base: {0}\\n\".format([\"{:0.3f}\".format(e) for e in data.reshape(-1)])) if debug else False\n",
    "\n",
    "    batch_size = ndata / 4    \n",
    "    \n",
    "    flag = False\n",
    "\n",
    "    while data.shape[1] < ndata and att < max_att:\n",
    "\n",
    "        att += 1; total_att += 1;\n",
    "        x = random.rand(dim,1)\n",
    "        print(\"x: {0}\".format([\"{:0.3f}\".format(e) for e in x.reshape(-1)])) if debug else False\n",
    "        \n",
    "        D = sqrt(((data - x[:,:data.shape[1]])**2).sum(axis=0))\n",
    "        print([\"{:0.3f}\".format(e) for e in D]) if debug else False\n",
    "        if min(D) > distance:\n",
    "            data = np.concatenate((data, x), axis = 1)\n",
    "            flag = True\n",
    "\n",
    "        if flag:\n",
    "            print(\"data.shape: {0} (# of attempts = {1})\\n\".format(data.shape, att)) if debug else False\n",
    "            \n",
    "            if data.shape[1] >= ndata:\n",
    "                print(\"{0} points (loops: {1}) Done!\".format(data.shape[1], total_att)) if debug else False\n",
    "            elif data.shape[1] % batch_size == 0:\n",
    "                print(\"{0} points (loops: {1}) ...\".format(data.shape[1], total_att)) if debug else False\n",
    "            \n",
    "            att = 0\n",
    "            flag = False\n",
    "\n",
    "        if att >= max_att:\n",
    "            print(\"Stop since almost impossible!\")\n",
    "    \n",
    "    print(\"Done\")\n",
    "    \n",
    "    filename = \"data_dim\" + str(dim) + \"n\" + str(data.shape[1]) + \"dist\" + str(distance) + \".csv\"\n",
    "    \n",
    "    np.savetxt(filename, data, delimiter=\",\", fmt='%s')\n",
    "    return data\n",
    "    \n"
   ]
  },
  {
   "cell_type": "code",
   "execution_count": 28,
   "metadata": {},
   "outputs": [
    {
     "name": "stdout",
     "output_type": "stream",
     "text": [
      "Generating for [dim: 9, ndata: 1000, dist: 0.5] ...\n",
      "250 points (loops: 307) ...\n",
      "500 points (loops: 765) ...\n",
      "750 points (loops: 1538) ...\n",
      "1000 points (loops: 2583) Done!\n"
     ]
    }
   ],
   "source": [
    "import pylab\n",
    "\n",
    "DIM = 9; NDATA = 1000; DIST = 0.5;\n",
    "data_d9n1000d5 = gen_data(dim=DIM, ndata=NDATA, distance=DIST, seed = random.rand(DIM,1), debug=False)\n",
    "# filename = \"data_dim\" + str(DIM) + \"n\" + str(NDATA) + \"dist\" + str(DIST) + \".csv\"\n",
    "# data_d9n1000d5 = np.genfromtxt(\"./ongo/\" + filename, delimiter=',')\n"
   ]
  },
  {
   "cell_type": "code",
   "execution_count": 29,
   "metadata": {},
   "outputs": [],
   "source": [
    "\n",
    "data = data_d9n1000d5\n",
    "\n",
    "def quick_shot(data):\n",
    "    print(\"Quick shot ...\")\n",
    "    if data.shape[0] <= 2:\n",
    "        print(\"Short of dim!\")\n",
    "        return\n",
    "    pylab.xlim(0,1)\n",
    "    pylab.ylim(0,1)\n",
    "    pylab.plot(data[0,:],data[1,:],'ob', markersize=3)\n",
    "    show()\n",
    "    pylab.plot(data[3,:],data[1,:],'or', markersize=3)\n",
    "    show()\n",
    "    if data.shape[0] > 5:\n",
    "        pylab.plot(data[0,:],data[5,:],'og', markersize=3)\n",
    "        show()\n",
    "    if data.shape[0] > 7:\n",
    "        pylab.plot(data[0,:],data[7,:],'oy', markersize=3)\n",
    "        show()\n",
    "    if data.shape[0] > 8:\n",
    "        pylab.plot(data[8,:],data[4,:],'ok', markersize=3)\n",
    "        show()\n",
    "    return\n",
    "\n",
    "# quick_shot(data)"
   ]
  },
  {
   "cell_type": "markdown",
   "metadata": {},
   "source": [
    "# Predict for each sample"
   ]
  },
  {
   "cell_type": "code",
   "execution_count": 30,
   "metadata": {},
   "outputs": [
    {
     "name": "stdout",
     "output_type": "stream",
     "text": [
      "['RTL8112' 'RTL8112L' 'RTL8131' '82567LF' 'RTL8103EL' 'AR8131L-AL1E'\n",
      " 'WG82578DM' 'RTL8111E-VB' 'WG82567V' 'WG82583V' 'WG82579V' 'AR8151'\n",
      " 'RTL8111E-VL' 'WG82579LM' 'RTL8111F-VB' 'AR8161-AL3A-R' 'AR8161-BL3A-R'\n",
      " 'RTL8111DP-VC' 'WGI217V' 'RTL8111G-CG' 'RTL8111GR-CG' 'WGI217LM'\n",
      " 'WGI218V' 'WGI211AT(A2)' 'WGI218LM' 'RTL8111EP-CG' 'RTL8111H-CG']\n"
     ]
    }
   ],
   "source": [
    "print (LAN_NAME_ARR)"
   ]
  },
  {
   "cell_type": "code",
   "execution_count": 31,
   "metadata": {},
   "outputs": [],
   "source": [
    "data_trans = data.T"
   ]
  },
  {
   "cell_type": "code",
   "execution_count": 32,
   "metadata": {},
   "outputs": [
    {
     "name": "stdout",
     "output_type": "stream",
     "text": [
      "[1293811200.0, 2011.0, 1.0, -1.0, 1.0, 4.0, 1.0, 6.0, 1.0, 15.0, 6, 7.5, 8.0]\n",
      "[[ 0.37691381  0.4         0.         -0.2         0.05        0.2\n",
      "   0.05        0.3         0.05        0.75        0.3         0.375\n",
      "   0.4       ]]\n",
      "[[ 1.2938112e+09  2.0110000e+03  1.0000000e+00 -1.0000000e+00\n",
      "   1.0000000e+00  4.0000000e+00  1.0000000e+00  6.0000000e+00\n",
      "   1.0000000e+00  1.5000000e+01  6.0000000e+00  7.5000000e+00\n",
      "   8.0000000e+00]]\n"
     ]
    }
   ],
   "source": [
    "import time as time_mod\n",
    "import datetime as dt_mod\n",
    "\n",
    "evl = [2011., 1., 1., 4., 1., 6., 1., 15., 6, 7.5, 8.]\n",
    "\n",
    "dt = dt_mod.datetime(year=int(evl[0]), month=int(evl[1]), day=1)\n",
    "ftr_a = time_mod.mktime(dt.timetuple())\n",
    "evl_fix = [ftr_a] + evl[:2] + [-1.] + evl[2:]\n",
    "print(evl_fix)\n",
    "\n",
    "\n",
    "evl_fix_bo = np.array(evl_fix + evl_fix).reshape(2, 13)\n",
    "\n",
    "\n",
    "ftr_data_norm = s_scaler.transform(np.array(evl_fix).reshape(1,13))\n",
    "print(ftr_data_norm)\n",
    "ftr_data_orig = s_scaler.inverse_transform(ftr_data_norm)\n",
    "print(ftr_data_orig)\n",
    "\n",
    "# ftr_data_norm = s_scaler.transform(evl_fix_bo)\n",
    "# print(ftr_data_norm)\n",
    "# ftr_data_orig = s_scaler.inverse_transform(ftr_data_norm)\n",
    "# print(ftr_data_orig)\n"
   ]
  },
  {
   "cell_type": "code",
   "execution_count": 33,
   "metadata": {},
   "outputs": [
    {
     "name": "stdout",
     "output_type": "stream",
     "text": [
      "In model\n",
      "/home/jerry3chang/Workspace/AMACS/CFR-Model/LAN-Model/release/model/\n",
      "aefghijklm\n"
     ]
    },
    {
     "name": "stderr",
     "output_type": "stream",
     "text": [
      "/home/jerry3chang/Workspace/tensorflow_py3/lib/python3.5/site-packages/keras/models.py:282: UserWarning: No training configuration found in save file: the model was *not* compiled. Compile it manually.\n",
      "  warnings.warn('No training configuration found in save file: '\n"
     ]
    }
   ],
   "source": [
    "import release.model.predict_models as predict_models"
   ]
  },
  {
   "cell_type": "code",
   "execution_count": 34,
   "metadata": {},
   "outputs": [],
   "source": [
    "\n",
    "NA = np.array([-1.] * 1000).reshape(1000, 1)\n",
    "random_arr = np.concatenate((NA, NA, NA, NA, data.T), axis = -1)\n",
    "res = s_scaler.inverse_transform(random_arr)[:,4:]\n",
    "\n",
    "Y = 2016.\n",
    "M = 5.\n",
    "dt = dt_mod.datetime(year=int(Y), month=int(M), day=1)\n",
    "TP = time_mod.mktime(dt.timetuple())\n",
    "TA = np.array([TP] * 1000).reshape(1000, 1)\n",
    "YA = np.array([Y] * 1000).reshape(1000, 1)\n",
    "MA = np.array([M] * 1000).reshape(1000, 1)\n",
    "\n",
    "sample_array = np.concatenate((TA, YA, MA, NA, res), axis = -1)\n",
    "\n"
   ]
  },
  {
   "cell_type": "code",
   "execution_count": null,
   "metadata": {},
   "outputs": [],
   "source": []
  },
  {
   "cell_type": "code",
   "execution_count": null,
   "metadata": {},
   "outputs": [],
   "source": []
  },
  {
   "cell_type": "code",
   "execution_count": 65,
   "metadata": {},
   "outputs": [],
   "source": [
    "\"\"\"\n",
    "sample_array of shape <# of samples, # of dim.>\n",
    "\"\"\"\n",
    "def predict_sample(predict_models, sample_array, debug=True):\n",
    "\n",
    "    tb = dt_mod.datetime.now()\n",
    "\n",
    "    CFO = [] # store orginal scale\n",
    "    CFN = [] # store scaled cfr\n",
    "    \n",
    "    batch_size = int(sample_array.shape[0] / 4)\n",
    "    \n",
    "    cnt = 0\n",
    "    \n",
    "    for single_sample in sample_array:\n",
    "        \n",
    "        #sl = [1, 2] + list(range(4,13))\n",
    "        \n",
    "        single_input = list(single_sample) #list(single_sample[sl])\n",
    "        cfn_str = predict_models.run('LAN', single_input, 36)['cfr_norm']\n",
    "        cfo_str = predict_models.run('LAN', single_input, 36)['cfr']\n",
    "        cfn_lst = cfn_str.split(',')\n",
    "        cfo_lst = cfo_str.split(',')\n",
    "        last_cfn = float(cfn_lst[-1])\n",
    "        last_cfo = float(cfo_lst[-1])\n",
    "        if cnt % batch_size == 0:\n",
    "            print(\"last_cfr of sample {0}: {1:0.5f} ({2:0.5f})\".format(cnt, last_cfn, last_cfo))\\\n",
    "            if debug else False\n",
    "        CFO.append(last_cfo)\n",
    "        CFN.append(last_cfn)\n",
    "        cnt += 1\n",
    "\n",
    "    tf = dt_mod.datetime.now()\n",
    "    te = tf - tb\n",
    "\n",
    "    print(\"Time elapsed: {0}\".format(te))\n",
    "    return CFO, CFN"
   ]
  },
  {
   "cell_type": "code",
   "execution_count": 36,
   "metadata": {},
   "outputs": [
    {
     "name": "stdout",
     "output_type": "stream",
     "text": [
      "(1000, 13)\n"
     ]
    }
   ],
   "source": [
    "print(sample_array.shape)"
   ]
  },
  {
   "cell_type": "code",
   "execution_count": null,
   "metadata": {},
   "outputs": [],
   "source": []
  },
  {
   "cell_type": "code",
   "execution_count": null,
   "metadata": {},
   "outputs": [],
   "source": []
  },
  {
   "cell_type": "code",
   "execution_count": null,
   "metadata": {},
   "outputs": [],
   "source": []
  },
  {
   "cell_type": "code",
   "execution_count": null,
   "metadata": {},
   "outputs": [],
   "source": []
  },
  {
   "cell_type": "code",
   "execution_count": 38,
   "metadata": {},
   "outputs": [],
   "source": [
    "def quick_result(sample_array, ids, CFO, printout = True):\n",
    "\n",
    "    S = \" \"\n",
    "    for i in range(91):\n",
    "        S += \"_\"\n",
    "    print(S) if printout else False\n",
    "\n",
    "    S = \"\"\n",
    "    N = ['a_Ts','b_Yr','c_Mt','d_N','e_IL','f_NG','g_NL','h_AG','i_AL','j_GG','k_GL','l_Pn','m_ED']\n",
    "    for v in N:\n",
    "        S += \"{:5s}|\".format(v)\n",
    "    print(\"|{0:13s}|{1}\".format(\"LAN\", S)) if printout else False\n",
    "    S = \"\";\n",
    "    for v in [\"-\"]*13:\n",
    "        S += \"{:5s}|\".format(v)\n",
    "    print(\"|{0:13s}|{1}\".format(\"-\", S)) if printout else False\n",
    "\n",
    "    for idx in ids:\n",
    "        row = sample_array[idx]\n",
    "        S = \"     |\"\n",
    "        for j in range(len(row)):\n",
    "            if j < 2:\n",
    "                S += \" {0:s}|\".format(str(row[j])[:4])\n",
    "            elif j == 2:\n",
    "                S += \"     |\"\n",
    "                S += \" {0:4s}|\".format(str(int(row[j])))\n",
    "            else:\n",
    "                S += \" {0:4s}|\".format(str(int(row[j])))\n",
    "\n",
    "        print(\"|{0:13s}|{1} {2:0.5f}\".format(\"idx \"+str(idx), S, CFO[idx])) if printout else False\n",
    "    S = \" \"\n",
    "    for i in range(91):\n",
    "        S += \"-\"\n",
    "    print(S) if printout else False\n",
    "\n",
    "\n",
    "def sort_and_show(CFO, sample_array, printout = True):\n",
    "\n",
    "    idxcnt = list(range(0,len(CFO),int(len(CFO)/3)))\n",
    "    # print(\"idxcnt: {0}\".format(idxcnt))\n",
    "\n",
    "    last_cfr_arr = np.array(CFO)\n",
    "\n",
    "    idx = argsort(last_cfr_arr) # sorting\n",
    "\n",
    "    idx_select = idx[0:len(CFO):int(len(CFO)/3)]\n",
    "\n",
    "    res = sample_array[idx_select]\n",
    "    \n",
    "    quick_result(sample_array, idx_select, CFO, printout=printout)\n",
    "\n",
    "    return idx\n"
   ]
  },
  {
   "cell_type": "code",
   "execution_count": null,
   "metadata": {},
   "outputs": [],
   "source": []
  },
  {
   "cell_type": "code",
   "execution_count": 43,
   "metadata": {},
   "outputs": [
    {
     "name": "stdout",
     "output_type": "stream",
     "text": [
      "Generating for [dim: 11, ndata: 100, dist: 0.9] ...\n",
      "25 points (loops: 35) ...\n",
      "50 points (loops: 139) ...\n",
      "75 points (loops: 293) ...\n",
      "100 points (loops: 525) Done!\n"
     ]
    }
   ],
   "source": [
    "DIM = 11; NDATA = 100; DIST = 0.9;\n",
    "data_d11n100d5 = gen_data(dim=DIM, ndata=NDATA, distance=DIST, seed = random.rand(DIM,1), debug=False)\n"
   ]
  },
  {
   "cell_type": "code",
   "execution_count": 44,
   "metadata": {},
   "outputs": [],
   "source": [
    "# quick_shot(data_d11n100d5)"
   ]
  },
  {
   "cell_type": "code",
   "execution_count": 45,
   "metadata": {},
   "outputs": [
    {
     "name": "stdout",
     "output_type": "stream",
     "text": [
      "[[0.8000877  0.34465977 0.40777027 0.06539139 0.30342218 0.88705792\n",
      "  0.27831653 0.38440438 0.91121919 0.27235941 0.33769079]\n",
      " [0.86953417 0.8245915  0.41770084 0.55526718 0.5845761  0.06113736\n",
      "  0.42414362 0.22397526 0.53291774 0.97435421 0.33559365]\n",
      " [0.24939751 0.57075093 0.83848164 0.44045048 0.43525636 0.93660244\n",
      "  0.48976895 0.82532438 0.44057398 0.41666805 0.86734727]]\n"
     ]
    }
   ],
   "source": [
    "print(data_d11n100d5.T[:3])"
   ]
  },
  {
   "cell_type": "code",
   "execution_count": 46,
   "metadata": {},
   "outputs": [],
   "source": [
    "\n",
    "# note data shape <# of samples, # of dim.>\n",
    "def gen_sample_arr(data, s_scaler, inv = True):\n",
    "    n = data.shape[0]\n",
    "    NA = np.array([-1.] * n).reshape(n, 1)\n",
    "    YA = data[:,0].reshape(n, 1)\n",
    "    MA = data[:,1].reshape(n, 1)\n",
    "    SA = data[:,2:]\n",
    "    random_arr = np.concatenate((NA, YA, MA, NA, SA), axis = -1)\n",
    "    sel = [1, 2] + list(range(4, random_arr.shape[1]))\n",
    "    if inv:\n",
    "        res = s_scaler.inverse_transform(random_arr)[:,sel]\n",
    "    else:\n",
    "        res = s_scaler.transform(random_arr)[:,sel]\n",
    "    return res"
   ]
  },
  {
   "cell_type": "code",
   "execution_count": 47,
   "metadata": {},
   "outputs": [
    {
     "name": "stdout",
     "output_type": "stream",
     "text": [
      "sample_array.shape: (100, 11)\n"
     ]
    }
   ],
   "source": [
    "sample_array = gen_sample_arr(data_d11n100d5.T, s_scaler)\n",
    "print(\"sample_array.shape: {0}\".format(sample_array.shape))"
   ]
  },
  {
   "cell_type": "code",
   "execution_count": 48,
   "metadata": {},
   "outputs": [
    {
     "name": "stdout",
     "output_type": "stream",
     "text": [
      "last_cfr of sample 0: 0.34984 (0.09166)\n",
      "last_cfr of sample 25: 1.05559 (0.27657)\n",
      "last_cfr of sample 50: 0.09082 (0.02380)\n",
      "last_cfr of sample 75: 0.14709 (0.03854)\n",
      "Time elapsed: 0:00:20.260035\n"
     ]
    }
   ],
   "source": [
    "CFO, CFN = predict_sample(predict_models, sample_array)"
   ]
  },
  {
   "cell_type": "code",
   "execution_count": 49,
   "metadata": {},
   "outputs": [
    {
     "name": "stdout",
     "output_type": "stream",
     "text": [
      " ___________________________________________________________________________________________\n",
      "|LAN          |a_Ts |b_Yr |c_Mt |d_N  |e_IL |f_NG |g_NL |h_AG |i_AL |j_GG |k_GL |l_Pn |m_ED |\n",
      "|-            |-    |-    |-    |-    |-    |-    |-    |-    |-    |-    |-    |-    |-    |\n",
      "|idx 69       |     | 2019| 8.88|     | 6   | 3   | 18  | 3   | 14  | 18  | 12  | 0   | 1   | 0.00551\n",
      "|idx 64       |     | 2018| 4.41|     | 7   | 18  | 16  | 16  | 13  | 14  | 0   | 18  | 19  | 0.05948\n",
      "|idx 6        |     | 2016| 11.7|     | 7   | 9   | 1   | 10  | 17  | 15  | 4   | 19  | 9   | 0.23392\n",
      "|idx 28       |     | 2011| 8.07|     | 11  | 19  | 1   | 3   | 0   | 3   | 8   | 9   | 4   | 0.33250\n",
      " -------------------------------------------------------------------------------------------\n"
     ]
    }
   ],
   "source": [
    "idx = sort_and_show(CFO, sample_array)"
   ]
  },
  {
   "cell_type": "code",
   "execution_count": null,
   "metadata": {},
   "outputs": [],
   "source": []
  },
  {
   "cell_type": "code",
   "execution_count": 68,
   "metadata": {},
   "outputs": [],
   "source": [
    "d_lst = [0.9, 0.5, 0.1]\n",
    "\n",
    "def NNS(predict_models, s_scaler, d_lst):\n",
    "\n",
    "    NDATA = 100; DIM = 11;\n",
    "    \n",
    "    def seedNNS(predict_models, s_scaler, d_lst, level, seed_lst):\n",
    "        \n",
    "        for seed in seed_lst:\n",
    "            \n",
    "            print(\"LEVEL {0}, seed: {1}\".format(level, seed.T))\n",
    "\n",
    "            data = gen_data(dim=DIM, ndata=NDATA, distance=d_lst[level], seed = seed)\n",
    "\n",
    "            sample_array = gen_sample_arr(data.T, s_scaler)\n",
    "\n",
    "            #print(\"Got inversed array of shape {0}\".format(sample_array.shape))\n",
    "            #print(\"Predict ...\")\n",
    "\n",
    "            CFO, CFN = predict_sample(predict_models, sample_array, debug=False)\n",
    "            #print(\"Quick result ...\")\n",
    "\n",
    "            idx = sort_and_show(CFO, sample_array, printout=False)\n",
    "            best = idx[:3]\n",
    "\n",
    "            print(\"Best: {0}\".format(best))\n",
    "\n",
    "            #quick_result(sample_array, best, CFO)\n",
    "\n",
    "            if level == 2:\n",
    "                return\n",
    "            else:\n",
    "                new_array = gen_sample_arr(sample_array[best], s_scaler, inv=False)\n",
    "                L = [e.reshape(DIM,1) for e in new_array]\n",
    "                seedNNS(predict_models, s_scaler, d_lst, level+1, L)\n",
    "\n",
    "    seedNNS(predict_models, s_scaler, d_lst, 0, [random.rand(DIM,1)])\n",
    "    return"
   ]
  },
  {
   "cell_type": "code",
   "execution_count": 69,
   "metadata": {},
   "outputs": [
    {
     "name": "stdout",
     "output_type": "stream",
     "text": [
      "LEVEL 0, seed: [[0.35793018 0.41737862 0.13095666 0.831898   0.32199817 0.50955362\n",
      "  0.50838983 0.86253705 0.33727262 0.95402129 0.821416  ]]\n",
      "Generating for [dim: 11, ndata: 10, dist: 0.9] ...\n",
      "Done\n",
      "Time elapsed: 0:00:01.965484\n",
      "Best: [2 1 5]\n",
      "LEVEL 1, seed: [[0.87345504 0.05956677 0.17910871 0.40758265 0.9879144  0.57284889\n",
      "  0.85675627 0.22681432 0.52782698 0.26699488 0.04481182]]\n",
      "Generating for [dim: 11, ndata: 10, dist: 0.5] ...\n",
      "Done\n",
      "Time elapsed: 0:00:02.203388\n",
      "Best: [0 9 5]\n",
      "LEVEL 2, seed: [[0.87345504 0.05956677 0.17910871 0.40758265 0.9879144  0.57284889\n",
      "  0.85675627 0.22681432 0.52782698 0.26699488 0.04481182]]\n",
      "Generating for [dim: 11, ndata: 10, dist: 0.1] ...\n",
      "Done\n",
      "Time elapsed: 0:00:02.135348\n",
      "Best: [0 7 9]\n",
      "LEVEL 1, seed: [[0.6086168  0.6016026  0.6888047  0.6174213  0.7824202  0.61992081\n",
      "  0.56589101 0.49152085 0.038153   0.21348903 0.25735466]]\n",
      "Generating for [dim: 11, ndata: 10, dist: 0.5] ...\n",
      "Done\n",
      "Time elapsed: 0:00:02.102463\n",
      "Best: [0 7 6]\n",
      "LEVEL 2, seed: [[0.6086168  0.6016026  0.6888047  0.6174213  0.7824202  0.61992081\n",
      "  0.56589101 0.49152085 0.038153   0.21348903 0.25735466]]\n",
      "Generating for [dim: 11, ndata: 10, dist: 0.1] ...\n",
      "Done\n",
      "Time elapsed: 0:00:02.058004\n",
      "Best: [3 8 9]\n",
      "LEVEL 1, seed: [[0.68697792 0.68179938 0.34184593 0.16484919 0.53347008 0.63961505\n",
      "  0.26414229 0.02714733 0.75240359 0.17767638 0.54809081]]\n",
      "Generating for [dim: 11, ndata: 10, dist: 0.5] ...\n",
      "Done\n",
      "Time elapsed: 0:00:02.194017\n",
      "Best: [5 4 1]\n",
      "LEVEL 2, seed: [[0.88501158 0.17243072 0.16730277 0.82634047 0.0636317  0.65848848\n",
      "  0.75249838 0.75662877 0.64609208 0.30054949 0.79868377]]\n",
      "Generating for [dim: 11, ndata: 10, dist: 0.1] ...\n",
      "Done\n",
      "Time elapsed: 0:00:01.611989\n",
      "Best: [4 0 2]\n"
     ]
    }
   ],
   "source": [
    "NNS(predict_models, s_scaler, d_lst)"
   ]
  },
  {
   "cell_type": "code",
   "execution_count": null,
   "metadata": {},
   "outputs": [],
   "source": []
  },
  {
   "cell_type": "code",
   "execution_count": null,
   "metadata": {},
   "outputs": [],
   "source": []
  }
 ],
 "metadata": {
  "kernelspec": {
   "display_name": "Python 3",
   "language": "python",
   "name": "python3"
  },
  "language_info": {
   "codemirror_mode": {
    "name": "ipython",
    "version": 3
   },
   "file_extension": ".py",
   "mimetype": "text/x-python",
   "name": "python",
   "nbconvert_exporter": "python",
   "pygments_lexer": "ipython3",
   "version": "3.5.2"
  }
 },
 "nbformat": 4,
 "nbformat_minor": 2
}
