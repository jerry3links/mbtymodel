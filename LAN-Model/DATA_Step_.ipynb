{
 "cells": [
  {
   "cell_type": "code",
   "execution_count": 1,
   "metadata": {
    "scrolled": true
   },
   "outputs": [
    {
     "name": "stderr",
     "output_type": "stream",
     "text": [
      "Using TensorFlow backend.\n"
     ]
    },
    {
     "name": "stdout",
     "output_type": "stream",
     "text": [
      "DATA_VERCODE:  020000\n",
      "DATA_RESULT_MAIN_FOLDER:  ../../CFR-Result/DATA/020000/\n",
      "DATA_RESULT_OUTPUT_FOLDER:  ../../CFR-Result/DATA/020000/_OUTPUT/\n",
      "DATA_RESULT_SESSION_FOLDER:  ../../CFR-Result/DATA/020000/_SESSION/\n",
      "DATA_RESULT_CODE_BACKUP_FOLDER:  ../../CFR-Result/DATA/020000/_CODE/\n",
      "DATA_RESULT_SCALER_FOLDER:  ../../CFR-Result/DATA/020000/_SCALER/\n",
      "[Errno 17] File exists: '../../CFR-Result/DATA/020000/'\n",
      "[Errno 17] File exists: '../../CFR-Result/DATA/020000/_OUTPUT/'\n",
      "[Errno 17] File exists: '../../CFR-Result/DATA/020000/_SESSION/'\n",
      "[Errno 17] File exists: '../../CFR-Result/DATA/020000/_CODE/'\n",
      "[Errno 17] File exists: '../../CFR-Result/DATA/020000/_SCALER/'\n",
      "X_DATA_PATH:  ../../CFR-Result/DATA/020000/_OUTPUT/X_25ic.txt\n",
      "Y_DATA_PATH:  ../../CFR-Result/DATA/020000/_OUTPUT/Y_25ic.txt\n",
      "X_TRAIN_SET_PATH:  ../../CFR-Result/DATA/020000/_OUTPUT/X_train_set_25ic.csv\n",
      "Y_TRAIN_SET_PATH:  ../../CFR-Result/DATA/020000/_OUTPUT/Y_train_set_25ic.csv\n",
      "X_TEST_SET_PATH:  ../../CFR-Result/DATA/020000/_OUTPUT/X_test_set_25ic.csv\n",
      "Y_TEST_SET_PATH:  ../../CFR-Result/DATA/020000/_OUTPUT/Y_test_set_25ic.csv\n",
      "NORMALIZE_SCALER_OBJ_DUMP_PATH_SPEC:  ../../CFR-Result/DATA/020000/_SCALER/SCALER_SPEC_25ic.pkl\n",
      "NORMALIZE_SCALER_OBJ_DUMP_PATH_CFR:  ../../CFR-Result/DATA/020000/_SCALER/SCALER_CFR_25ic.pkl\n",
      "X_DATA_NORM_PATH:  ../../CFR-Result/DATA/020000/_OUTPUT/X_25ic_NORM.txt\n",
      "Y_DATA_NORM_PATH:  ../../CFR-Result/DATA/020000/_OUTPUT/Y_25ic_NORM.txt\n",
      "CONST_REC_TIME:  181009200406\n",
      "Check all 210 files ...\n",
      "Got 27 cfr files\n",
      "['RTL8112' 'RTL8112L' 'RTL8131' '82567LF' 'RTL8103EL' 'AR8131L-AL1E'\n",
      " 'WG82578DM' 'RTL8111E-VB' 'WG82567V' 'WG82583V' 'WG82579V' 'AR8151'\n",
      " 'RTL8111E-VL' 'WG82579LM' 'RTL8111F-VB' 'AR8161-AL3A-R' 'AR8161-BL3A-R'\n",
      " 'RTL8111DP-VC' 'WGI217V' 'RTL8111G-CG' 'RTL8111GR-CG' 'WGI217LM'\n",
      " 'WGI218V' 'WGI211AT(A2)' 'WGI218LM' 'RTL8111EP-CG' 'RTL8111H-CG']\n",
      "s_all_norm.shape: (29, 13)\n",
      "Spec. Table:\n",
      "|             |Tmst |Year |Mont |New  |IC2L |Nm2G |Nm2L |AD2G |AD2L |Gd2G |Gd2L |PwPn |ESD  |\n",
      "|LAN          |a_Ts |b_Yr |c_Mt |d_N  |e_IL |f_NG |g_NL |h_AG |i_AL |j_GG |k_GL |l_Pn |m_ED |\n",
      "|-            |-    |-    |-    |-    |-    |-    |-    |-    |-    |-    |-    |-    |-    |\n",
      "|RTL8112      | 0.25| 0.27| 0.00| 0.00| 0.05| 0.20| 0.05| 0.30| 0.05| 0.75| 0.30| 0.30| 0.40|\n",
      "|RTL8112L     | 0.26| 0.27| 0.18| 0.00| 0.05| 0.20| 0.05| 0.30| 0.05| 0.75| 0.30| 0.30| 0.40|\n",
      "|RTL8131      | 0.26| 0.27| 0.18| 0.00| 0.05| 0.20| 0.05| 0.30| 0.05| 0.75| 0.30| 0.30| 0.40|\n",
      "|82567LF      | 0.28| 0.27| 0.55| 0.00| 0.05| 0.20| 0.05| 0.30| 0.05| 0.75| 0.30| 0.30| 0.40|\n",
      "|RTL8103EL    | 0.29| 0.27| 0.64| 0.00| 0.05| 0.20| 0.05| 0.30| 0.05| 0.75| 0.30| 0.30| 0.40|\n",
      "|AR8131L-AL1E | 0.30| 0.27| 0.82| 0.00| 0.05| 0.20| 0.05| 0.30| 0.05| 0.75| 0.30| 0.25| 0.40|\n",
      "|WG82578DM    | 0.31| 0.33| 0.00| 0.00| 0.05| 0.20| 0.05| 0.30| 0.05| 0.75| 0.30| 0.30| 0.40|\n",
      "|RTL8111E-VB  | 0.32| 0.33| 0.09| 0.00| 0.02| 0.20| 0.05| 0.30| 0.05| 0.75| 0.30| 0.38| 0.40|\n",
      "|WG82567V     | 0.33| 0.33| 0.27| 0.00| 0.05| 0.20| 0.05| 0.30| 0.05| 0.75| 0.30| 0.30| 0.40|\n",
      "|WG82583V     | 0.36| 0.33| 0.73| 0.00| 0.05| 0.20| 0.05| 0.30| 0.05| 0.75| 0.30| 0.30| 0.40|\n",
      "|WG82579V     | 0.36| 0.33| 0.82| 0.00| 0.05| 0.20| 0.05| 0.30| 0.05| 0.75| 0.30| 0.30| 0.40|\n",
      "|AR8151       | 0.37| 0.33| 0.91| 0.00| 0.05| 0.10| 0.05| 0.30| 0.05| 0.75| 0.30| 0.25| 0.40|\n",
      "|RTL8111E-VL  | 0.38| 0.40| 0.00| 0.00| 0.05| 0.20| 0.05| 0.30| 0.05| 0.75| 0.30| 0.38| 0.40|\n",
      "|WG82579LM    | 0.38| 0.40| 0.09| 0.00| 0.05| 0.20| 0.05| 0.30| 0.05| 0.75| 0.30| 0.30| 0.40|\n",
      "|RTL8111F-VB  | 0.44| 0.47| 0.00| 0.00| 0.05| 0.20| 0.05| 0.30| 0.05| 0.75| 0.30| 0.30| 0.40|\n",
      "|AR8161-AL3A-R| 0.45| 0.47| 0.09| 0.00| 0.05| 0.10| 0.05| 0.30| 0.05| 0.75| 0.30| 0.25| 0.40|\n",
      "|AR8161-BL3A-R| 0.46| 0.47| 0.36| 0.00| 0.05| 0.10| 0.05| 0.30| 0.05| 0.75| 0.30| 0.25| 0.40|\n",
      "|RTL8111DP-VC | 0.51| 0.53| 0.18| 0.00| 0.05| 0.20| 0.05| 0.30| 0.05| 0.75| 0.30| 0.30| 0.40|\n",
      "|WGI217V      | 0.51| 0.53| 0.18| 0.00| 0.05| 0.20| 0.05| 0.30| 0.10| 0.75| 0.30| 0.30| 0.40|\n",
      "|RTL8111G-CG  | 0.52| 0.53| 0.27| 0.00| 0.10| 0.20| 0.10| 0.30| 0.10| 0.75| 0.30| 0.30| 0.40|\n",
      "|RTL8111GR-CG | 0.52| 0.53| 0.27| 0.00| 0.10| 0.20| 0.10| 0.30| 0.10| 0.75| 0.30| 0.30| 0.40|\n",
      "|WGI217LM     | 0.52| 0.53| 0.36| 0.00| 0.05| 0.20| 0.05| 0.30| 0.05| 0.75| 0.30| 0.30| 0.40|\n",
      "|WGI218V      | 0.57| 0.60| 0.09| 0.00| 0.05| 0.20| 0.05| 0.30| 0.05| 0.75| 0.30| 0.30| 0.40|\n",
      "|WGI211AT(A2) | 0.58| 0.60| 0.27| 0.20| 0.05| 0.20| 0.05| 0.30| 0.10| 0.75| 0.30| 0.38| 0.40|\n",
      "|WGI218LM     | 0.59| 0.60| 0.36| 0.00| 0.05| 0.20| 0.05| 0.30| 0.05| 0.75| 0.30| 0.30| 0.40|\n",
      "|RTL8111EP-CG | 0.60| 0.60| 0.55| 0.00| 0.05| 0.20| 0.05| 0.30| 0.05| 0.75| 0.30| 0.30| 0.40|\n",
      "|RTL8111H-CG  | 0.64| 0.67| 0.27| 0.20| 0.10| 0.20| 0.10| 0.30| 0.10| 0.75| 0.30| 0.38| 0.40|\n",
      "|             | 0.00| 0.00| 0.00| 0.00| 0.00| 0.00| 0.00| 0.00| 0.00| 0.00| 0.00| 0.00| 0.00|\n",
      "|             | 1.00| 1.00| 1.00| 1.00| 1.00| 1.00| 1.00| 1.00| 1.00| 1.00| 1.00| 1.00| 1.00|\n",
      "\n",
      "\n",
      "Target ids: [0, 1, 2, 4, 5, 6, 7, 8, 9, 10, 12, 13, 14, 15, 16, 17, 18, 19, 20, 21, 22, 23, 24, 25, 26]\n",
      "c_norm.shape: (25, 36, 1)\n",
      "X_norm.shape: (25, 36, 11), Y_norm.shape: (25, 36, 1)\n",
      "Save array of (25, 36, 11) to ../../CFR-Result/DATA/020000/_OUTPUT/X_25ic.txt\n",
      "Save array of (25, 36, 1) to ../../CFR-Result/DATA/020000/_OUTPUT/Y_25ic.txt\n",
      "X_orig.shape: (25, 36, 11), Y_orig.shape: (25, 36, 1)\n",
      "Save array of (25, 36, 11) to ../../CFR-Result/DATA/020000/_OUTPUT/X_25ic_NORM.txt\n",
      "Save array of (25, 36, 1) to ../../CFR-Result/DATA/020000/_OUTPUT/Y_25ic_NORM.txt\n"
     ]
    }
   ],
   "source": [
    "%run Data_Step_.py"
   ]
  },
  {
   "cell_type": "code",
   "execution_count": null,
   "metadata": {},
   "outputs": [],
   "source": []
  },
  {
   "cell_type": "code",
   "execution_count": null,
   "metadata": {},
   "outputs": [],
   "source": []
  }
 ],
 "metadata": {
  "kernelspec": {
   "display_name": "Python 3",
   "language": "python",
   "name": "python3"
  },
  "language_info": {
   "codemirror_mode": {
    "name": "ipython",
    "version": 3
   },
   "file_extension": ".py",
   "mimetype": "text/x-python",
   "name": "python",
   "nbconvert_exporter": "python",
   "pygments_lexer": "ipython3",
   "version": "3.5.2"
  }
 },
 "nbformat": 4,
 "nbformat_minor": 2
}
